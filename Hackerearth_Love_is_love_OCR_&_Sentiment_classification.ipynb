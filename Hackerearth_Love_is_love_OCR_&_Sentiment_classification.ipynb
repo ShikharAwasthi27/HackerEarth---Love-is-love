{
 "cells": [
  {
   "cell_type": "markdown",
   "metadata": {
    "colab_type": "text",
    "id": "lkaTRb5xgaz2"
   },
   "source": [
    "## Imports and reading the data"
   ]
  },
  {
   "cell_type": "code",
   "execution_count": 1,
   "metadata": {
    "colab": {
     "base_uri": "https://localhost:8080/",
     "height": 1000
    },
    "colab_type": "code",
    "id": "lAIYyLvUYURw",
    "outputId": "b8129c0e-d917-49fa-da92-18ccf13f7dd7"
   },
   "outputs": [
    {
     "name": "stdout",
     "output_type": "stream",
     "text": [
      "Reading package lists... Done\n",
      "Building dependency tree       \n",
      "Reading state information... Done\n",
      "The following package was automatically installed and is no longer required:\n",
      "  libnvidia-common-440\n",
      "Use 'sudo apt autoremove' to remove it.\n",
      "The following additional packages will be installed:\n",
      "  tesseract-ocr-eng tesseract-ocr-osd\n",
      "The following NEW packages will be installed:\n",
      "  tesseract-ocr tesseract-ocr-eng tesseract-ocr-osd\n",
      "0 upgraded, 3 newly installed, 0 to remove and 35 not upgraded.\n",
      "Need to get 4,795 kB of archives.\n",
      "After this operation, 15.8 MB of additional disk space will be used.\n",
      "Get:1 http://archive.ubuntu.com/ubuntu bionic/universe amd64 tesseract-ocr-eng all 4.00~git24-0e00fe6-1.2 [1,588 kB]\n",
      "Get:2 http://archive.ubuntu.com/ubuntu bionic/universe amd64 tesseract-ocr-osd all 4.00~git24-0e00fe6-1.2 [2,989 kB]\n",
      "Get:3 http://archive.ubuntu.com/ubuntu bionic/universe amd64 tesseract-ocr amd64 4.00~git2288-10f4998a-2 [218 kB]\n",
      "Fetched 4,795 kB in 0s (30.9 MB/s)\n",
      "debconf: unable to initialize frontend: Dialog\n",
      "debconf: (No usable dialog-like program is installed, so the dialog based frontend cannot be used. at /usr/share/perl5/Debconf/FrontEnd/Dialog.pm line 76, <> line 3.)\n",
      "debconf: falling back to frontend: Readline\n",
      "debconf: unable to initialize frontend: Readline\n",
      "debconf: (This frontend requires a controlling tty.)\n",
      "debconf: falling back to frontend: Teletype\n",
      "dpkg-preconfigure: unable to re-open stdin: \n",
      "Selecting previously unselected package tesseract-ocr-eng.\n",
      "(Reading database ... 144465 files and directories currently installed.)\n",
      "Preparing to unpack .../tesseract-ocr-eng_4.00~git24-0e00fe6-1.2_all.deb ...\n",
      "Unpacking tesseract-ocr-eng (4.00~git24-0e00fe6-1.2) ...\n",
      "Selecting previously unselected package tesseract-ocr-osd.\n",
      "Preparing to unpack .../tesseract-ocr-osd_4.00~git24-0e00fe6-1.2_all.deb ...\n",
      "Unpacking tesseract-ocr-osd (4.00~git24-0e00fe6-1.2) ...\n",
      "Selecting previously unselected package tesseract-ocr.\n",
      "Preparing to unpack .../tesseract-ocr_4.00~git2288-10f4998a-2_amd64.deb ...\n",
      "Unpacking tesseract-ocr (4.00~git2288-10f4998a-2) ...\n",
      "Setting up tesseract-ocr-osd (4.00~git24-0e00fe6-1.2) ...\n",
      "Setting up tesseract-ocr-eng (4.00~git24-0e00fe6-1.2) ...\n",
      "Setting up tesseract-ocr (4.00~git2288-10f4998a-2) ...\n",
      "Processing triggers for man-db (2.8.3-2ubuntu0.1) ...\n",
      "Collecting pytesseract\n",
      "  Downloading https://files.pythonhosted.org/packages/1d/d8/521db389ff0aae32035bfda6ed39cb2c2e28521c47015f6431f07460c50a/pytesseract-0.3.4.tar.gz\n",
      "Requirement already satisfied: Pillow in /usr/local/lib/python3.6/dist-packages (from pytesseract) (7.0.0)\n",
      "Building wheels for collected packages: pytesseract\n",
      "  Building wheel for pytesseract (setup.py) ... \u001b[?25l\u001b[?25hdone\n",
      "  Created wheel for pytesseract: filename=pytesseract-0.3.4-py2.py3-none-any.whl size=13431 sha256=0ced68ef19f09e379ad81e39feb448a5b2598fadbe8de826d87dbed83e642a68\n",
      "  Stored in directory: /root/.cache/pip/wheels/63/2a/a0/7596d2e0a73cf0aeffd6f6170862c4e73f3763b7827e48691a\n",
      "Successfully built pytesseract\n",
      "Installing collected packages: pytesseract\n",
      "Successfully installed pytesseract-0.3.4\n",
      "Collecting easyocr\n",
      "\u001b[?25l  Downloading https://files.pythonhosted.org/packages/ac/51/fe3da751afd6fc673619248ba833dfc70d9f9a2e00c2c127194311914d9d/easyocr-1.1.4-py3-none-any.whl (22.5MB)\n",
      "\u001b[K     |████████████████████████████████| 22.5MB 51.4MB/s \n",
      "\u001b[?25hRequirement already satisfied: opencv-python in /usr/local/lib/python3.6/dist-packages (from easyocr) (4.1.2.30)\n",
      "Requirement already satisfied: torchvision>=0.5 in /usr/local/lib/python3.6/dist-packages (from easyocr) (0.6.1+cu101)\n",
      "Requirement already satisfied: scipy in /usr/local/lib/python3.6/dist-packages (from easyocr) (1.4.1)\n",
      "Requirement already satisfied: torch in /usr/local/lib/python3.6/dist-packages (from easyocr) (1.5.1+cu101)\n",
      "Requirement already satisfied: Pillow in /usr/local/lib/python3.6/dist-packages (from easyocr) (7.0.0)\n",
      "Requirement already satisfied: scikit-image in /usr/local/lib/python3.6/dist-packages (from easyocr) (0.16.2)\n",
      "Requirement already satisfied: numpy in /usr/local/lib/python3.6/dist-packages (from easyocr) (1.18.5)\n",
      "Requirement already satisfied: future in /usr/local/lib/python3.6/dist-packages (from torch->easyocr) (0.16.0)\n",
      "Requirement already satisfied: networkx>=2.0 in /usr/local/lib/python3.6/dist-packages (from scikit-image->easyocr) (2.4)\n",
      "Requirement already satisfied: matplotlib!=3.0.0,>=2.0.0 in /usr/local/lib/python3.6/dist-packages (from scikit-image->easyocr) (3.2.2)\n",
      "Requirement already satisfied: PyWavelets>=0.4.0 in /usr/local/lib/python3.6/dist-packages (from scikit-image->easyocr) (1.1.1)\n",
      "Requirement already satisfied: imageio>=2.3.0 in /usr/local/lib/python3.6/dist-packages (from scikit-image->easyocr) (2.4.1)\n",
      "Requirement already satisfied: decorator>=4.3.0 in /usr/local/lib/python3.6/dist-packages (from networkx>=2.0->scikit-image->easyocr) (4.4.2)\n",
      "Requirement already satisfied: python-dateutil>=2.1 in /usr/local/lib/python3.6/dist-packages (from matplotlib!=3.0.0,>=2.0.0->scikit-image->easyocr) (2.8.1)\n",
      "Requirement already satisfied: kiwisolver>=1.0.1 in /usr/local/lib/python3.6/dist-packages (from matplotlib!=3.0.0,>=2.0.0->scikit-image->easyocr) (1.2.0)\n",
      "Requirement already satisfied: cycler>=0.10 in /usr/local/lib/python3.6/dist-packages (from matplotlib!=3.0.0,>=2.0.0->scikit-image->easyocr) (0.10.0)\n",
      "Requirement already satisfied: pyparsing!=2.0.4,!=2.1.2,!=2.1.6,>=2.0.1 in /usr/local/lib/python3.6/dist-packages (from matplotlib!=3.0.0,>=2.0.0->scikit-image->easyocr) (2.4.7)\n",
      "Requirement already satisfied: six>=1.5 in /usr/local/lib/python3.6/dist-packages (from python-dateutil>=2.1->matplotlib!=3.0.0,>=2.0.0->scikit-image->easyocr) (1.12.0)\n",
      "Installing collected packages: easyocr\n",
      "Successfully installed easyocr-1.1.4\n",
      "[nltk_data] Downloading package words to /root/nltk_data...\n",
      "[nltk_data]   Unzipping corpora/words.zip.\n"
     ]
    },
    {
     "name": "stderr",
     "output_type": "stream",
     "text": [
      "Using TensorFlow backend.\n"
     ]
    }
   ],
   "source": [
    "# ocr using pytesseract\n",
    "!sudo apt install tesseract-ocr\n",
    "!pip install pytesseract\n",
    "import pytesseract\n",
    "# ocr using easyocr\n",
    "!pip install easyocr\n",
    "import easyocr\n",
    "import os\n",
    "import numpy as np\n",
    "import pandas as pd\n",
    "import re, nltk\n",
    "nltk.download('words')\n",
    "from nltk.tokenize import RegexpTokenizer\n",
    "import cv2\n",
    "import tensorflow as tf\n",
    "from keras import models\n",
    "from keras import layers\n",
    "from keras import optimizers\n",
    "from keras.preprocessing.text import Tokenizer\n",
    "from keras.preprocessing.sequence import pad_sequences\n",
    "from keras.callbacks import ReduceLROnPlateau,EarlyStopping\n",
    "import matplotlib.pyplot as plt"
   ]
  },
  {
   "cell_type": "code",
   "execution_count": 2,
   "metadata": {
    "colab": {},
    "colab_type": "code",
    "id": "N9ulnDFNZGbl"
   },
   "outputs": [],
   "source": [
    "base_dir=r'/content/drive/My Drive/Hackerearth pride data'\n",
    "test_images=os.path.join(base_dir,'Dataset')\n",
    "test_csv=os.path.join(base_dir,'Test.csv')"
   ]
  },
  {
   "cell_type": "code",
   "execution_count": 3,
   "metadata": {
    "colab": {
     "base_uri": "https://localhost:8080/",
     "height": 195
    },
    "colab_type": "code",
    "id": "k2oVYl3_Zv7F",
    "outputId": "d448141b-7d1a-4b6d-9a1d-8183eb319807"
   },
   "outputs": [
    {
     "data": {
      "text/html": [
       "<div>\n",
       "<style scoped>\n",
       "    .dataframe tbody tr th:only-of-type {\n",
       "        vertical-align: middle;\n",
       "    }\n",
       "\n",
       "    .dataframe tbody tr th {\n",
       "        vertical-align: top;\n",
       "    }\n",
       "\n",
       "    .dataframe thead th {\n",
       "        text-align: right;\n",
       "    }\n",
       "</style>\n",
       "<table border=\"1\" class=\"dataframe\">\n",
       "  <thead>\n",
       "    <tr style=\"text-align: right;\">\n",
       "      <th></th>\n",
       "      <th>Filename</th>\n",
       "      <th>Category</th>\n",
       "    </tr>\n",
       "  </thead>\n",
       "  <tbody>\n",
       "    <tr>\n",
       "      <th>0</th>\n",
       "      <td>Test1001.jpg</td>\n",
       "      <td>NaN</td>\n",
       "    </tr>\n",
       "    <tr>\n",
       "      <th>1</th>\n",
       "      <td>Test1012.jpg</td>\n",
       "      <td>NaN</td>\n",
       "    </tr>\n",
       "    <tr>\n",
       "      <th>2</th>\n",
       "      <td>Test1022.jpg</td>\n",
       "      <td>NaN</td>\n",
       "    </tr>\n",
       "    <tr>\n",
       "      <th>3</th>\n",
       "      <td>Test1071.jpg</td>\n",
       "      <td>NaN</td>\n",
       "    </tr>\n",
       "    <tr>\n",
       "      <th>4</th>\n",
       "      <td>Test1122.jpg</td>\n",
       "      <td>NaN</td>\n",
       "    </tr>\n",
       "  </tbody>\n",
       "</table>\n",
       "</div>"
      ],
      "text/plain": [
       "       Filename  Category\n",
       "0  Test1001.jpg       NaN\n",
       "1  Test1012.jpg       NaN\n",
       "2  Test1022.jpg       NaN\n",
       "3  Test1071.jpg       NaN\n",
       "4  Test1122.jpg       NaN"
      ]
     },
     "execution_count": 3,
     "metadata": {
      "tags": []
     },
     "output_type": "execute_result"
    }
   ],
   "source": [
    "data=pd.read_csv(test_csv)\n",
    "data.head()"
   ]
  },
  {
   "cell_type": "code",
   "execution_count": 4,
   "metadata": {
    "colab": {
     "base_uri": "https://localhost:8080/",
     "height": 34
    },
    "colab_type": "code",
    "id": "t1Bg6H3lZ6Mw",
    "outputId": "f2a4ce7b-0b02-43ec-9b06-9af0c8a59ae5"
   },
   "outputs": [
    {
     "data": {
      "text/plain": [
       "(239, 2)"
      ]
     },
     "execution_count": 4,
     "metadata": {
      "tags": []
     },
     "output_type": "execute_result"
    }
   ],
   "source": [
    "data.shape"
   ]
  },
  {
   "cell_type": "code",
   "execution_count": 5,
   "metadata": {
    "colab": {},
    "colab_type": "code",
    "id": "-AtT9ZGWahhu"
   },
   "outputs": [],
   "source": [
    "path=os.path.join(test_images,data['Filename'][0])"
   ]
  },
  {
   "cell_type": "markdown",
   "metadata": {
    "colab_type": "text",
    "id": "4TxSpAvaBrvz"
   },
   "source": [
    "### Reading text through pytesseract"
   ]
  },
  {
   "cell_type": "code",
   "execution_count": 6,
   "metadata": {
    "colab": {
     "base_uri": "https://localhost:8080/",
     "height": 35
    },
    "colab_type": "code",
    "id": "zq_-fJbfbHfr",
    "outputId": "c2cac385-6ecb-40b3-e20e-dc9312cbaefd"
   },
   "outputs": [
    {
     "data": {
      "application/vnd.google.colaboratory.intrinsic": {
       "type": "string"
      },
      "text/plain": [
       "\"When people ask\\nwhat I see in you,\\nI just smile and\\nlook away because\\nI'm afraid if they knew,\\nthey'd fall in love\\nwith you too.\""
      ]
     },
     "execution_count": 6,
     "metadata": {
      "tags": []
     },
     "output_type": "execute_result"
    }
   ],
   "source": [
    "img = cv2.imread(path)\n",
    "\n",
    "# Adding custom options\n",
    "custom_config = r'--oem 3 --psm 6'\n",
    "pytesseract.image_to_string(img, config=custom_config)"
   ]
  },
  {
   "cell_type": "markdown",
   "metadata": {
    "colab_type": "text",
    "id": "wDDIksp8Bx9S"
   },
   "source": [
    "### Reading text through easyocr"
   ]
  },
  {
   "cell_type": "code",
   "execution_count": 7,
   "metadata": {
    "colab": {
     "base_uri": "https://localhost:8080/",
     "height": 437
    },
    "colab_type": "code",
    "id": "mOkTebc7B1Li",
    "outputId": "56a3f46c-6678-454e-f6a1-358a7eccc0a9"
   },
   "outputs": [
    {
     "name": "stderr",
     "output_type": "stream",
     "text": [
      "Downloading detection model, please wait\n",
      "Download complete\n",
      "Downloading recognition model, please wait\n",
      "Download complete\n"
     ]
    },
    {
     "data": {
      "text/plain": [
       "[([[32, 14], [208, 14], [208, 42], [32, 42]],\n",
       "  'When people ask',\n",
       "  0.8024377822875977),\n",
       " ([[30, 38], [214, 38], [214, 64], [30, 64]],\n",
       "  'what Isee in you,',\n",
       "  0.07900962978601456),\n",
       " ([[42, 60], [204, 60], [204, 88], [42, 88]],\n",
       "  'Ijust smile and',\n",
       "  0.15037031471729279),\n",
       " ([[28, 83], [216, 83], [216, 113], [28, 113]],\n",
       "  'look away because',\n",
       "  0.785081684589386),\n",
       " ([[8, 104], [248, 104], [248, 134], [8, 134]],\n",
       "  'Im afraid ifthey knew,',\n",
       "  0.5500624775886536),\n",
       " ([[36, 130], [216, 130], [216, 158], [36, 158]],\n",
       "  'theyd fall in love',\n",
       "  0.7659639716148376),\n",
       " ([[60, 154], [196, 154], [196, 182], [60, 182]],\n",
       "  'with you too.',\n",
       "  0.25999242067337036)]"
      ]
     },
     "execution_count": 7,
     "metadata": {
      "tags": []
     },
     "output_type": "execute_result"
    }
   ],
   "source": [
    "reader = easyocr.Reader(['en'])\n",
    "reader.readtext(img)"
   ]
  },
  {
   "cell_type": "code",
   "execution_count": 8,
   "metadata": {
    "colab": {
     "base_uri": "https://localhost:8080/",
     "height": 35
    },
    "colab_type": "code",
    "id": "Igks61SnDG6y",
    "outputId": "91783240-ecce-4506-ff7c-77ef8daa141d"
   },
   "outputs": [
    {
     "data": {
      "application/vnd.google.colaboratory.intrinsic": {
       "type": "string"
      },
      "text/plain": [
       "'When people ask what Isee in you, Ijust smile and look away because Im afraid ifthey knew, theyd fall in love with you too.'"
      ]
     },
     "execution_count": 8,
     "metadata": {
      "tags": []
     },
     "output_type": "execute_result"
    }
   ],
   "source": [
    "temp=reader.readtext(img)\n",
    "string = \" \".join(t[1] for t in temp)\n",
    "string"
   ]
  },
  {
   "cell_type": "markdown",
   "metadata": {
    "colab_type": "text",
    "id": "H3CJ6HbPicHe"
   },
   "source": [
    "## Functions for image preprocessing"
   ]
  },
  {
   "cell_type": "code",
   "execution_count": 9,
   "metadata": {
    "colab": {
     "base_uri": "https://localhost:8080/",
     "height": 34
    },
    "colab_type": "code",
    "id": "seu_HpeucsxL",
    "outputId": "315b7e2e-170d-4529-8100-0075850fd06c"
   },
   "outputs": [
    {
     "data": {
      "text/plain": [
       "(197, 256, 3)"
      ]
     },
     "execution_count": 9,
     "metadata": {
      "tags": []
     },
     "output_type": "execute_result"
    }
   ],
   "source": [
    "img.shape"
   ]
  },
  {
   "cell_type": "code",
   "execution_count": 10,
   "metadata": {
    "colab": {},
    "colab_type": "code",
    "id": "yC1a-A_Plb1O"
   },
   "outputs": [],
   "source": [
    "def deskew(image):\n",
    "    #gray = cv2.cvtColor(image, cv2.COLOR_BGR2GRAY)\n",
    "    gray = cv2.bitwise_not(image)\n",
    "    thresh = cv2.threshold(gray, 0, 255,\n",
    "        cv2.THRESH_BINARY | cv2.THRESH_OTSU)[1]\n",
    "    coords = np.column_stack(np.where(thresh > 0))\n",
    "    angle = cv2.minAreaRect(coords)[-1]\n",
    "    if angle < -45:\n",
    "        angle = -(90 + angle)\n",
    "    else:\n",
    "        angle = -angle\n",
    "    (h, w) = image.shape[:2]\n",
    "    center = (w // 2, h // 2)\n",
    "    M = cv2.getRotationMatrix2D(center, angle, 1.0)\n",
    "    rotated = cv2.warpAffine(image, M, (w, h),\n",
    "        flags=cv2.INTER_CUBIC, borderMode=cv2.BORDER_REPLICATE)    \n",
    "    return rotated"
   ]
  },
  {
   "cell_type": "code",
   "execution_count": 11,
   "metadata": {
    "colab": {},
    "colab_type": "code",
    "id": "uMM_QTS_KT2b"
   },
   "outputs": [],
   "source": [
    "def adjust_gamma(image, gamma=1.0):\n",
    "    # build a lookup table mapping the pixel values [0, 255] to\n",
    "    # their adjusted gamma values\n",
    "    invGamma = 1.0 / gamma\n",
    "    table = np.array([((i / 255.0) ** invGamma) * 255\n",
    "        for i in np.arange(0, 256)]).astype(\"uint8\")\n",
    "    # apply gamma correction using the lookup table\n",
    "    return cv2.LUT(image, table)"
   ]
  },
  {
   "cell_type": "code",
   "execution_count": 12,
   "metadata": {
    "colab": {},
    "colab_type": "code",
    "id": "Xn5AXLwFdH0A"
   },
   "outputs": [],
   "source": [
    "def image_preprocessing_for_ocr(img):\n",
    "    kernel = np.ones((1,1),np.uint8)\n",
    "\n",
    "    # Resizing\n",
    "    img = cv2.resize(img, None, fx=1.2, fy=1.2, interpolation=cv2.INTER_CUBIC)\n",
    "\n",
    "    # get grayscale image\n",
    "    img = cv2.cvtColor(img, cv2.COLOR_BGR2GRAY)\n",
    "\n",
    "    # dilation\n",
    "    img = cv2.dilate(img, kernel, iterations = 1)\n",
    "\n",
    "    # erosion\n",
    "    img = cv2.erode(img, kernel, iterations = 1)\n",
    "\n",
    "    # noise removal using median blur\n",
    "    cv2.threshold(cv2.medianBlur(img, 3), 0, 255, cv2.THRESH_BINARY + cv2.THRESH_OTSU)[1]\n",
    "\n",
    "    #gamma correction\n",
    "    #img = adjust_gamma(img,0.8)\n",
    "\n",
    "    #skew correction\n",
    "    #img = deskew(img)\n",
    "\n",
    "    return img"
   ]
  },
  {
   "cell_type": "markdown",
   "metadata": {
    "colab_type": "text",
    "id": "_cBANOpqdyF6"
   },
   "source": [
    "## OCR (without any image preprocessing) using pytesseract"
   ]
  },
  {
   "cell_type": "code",
   "execution_count": 42,
   "metadata": {
    "colab": {},
    "colab_type": "code",
    "id": "8jzCNkAif3Yf"
   },
   "outputs": [],
   "source": [
    "text_from_images=[]\n",
    "# Adding custom options\n",
    "#custom_config = r'--oem 3 --psm 6'\n",
    "#custom_config = r'--psm 7'\n",
    "for i in data.index:\n",
    "    path = os.path.join(test_images,data['Filename'][i])\n",
    "    # Reading the image\n",
    "    img = cv2.imread(path)\n",
    "\n",
    "    # Preprocessing the image\n",
    "    #img = image_preprocessing_for_ocr(img)\n",
    "\n",
    "    # Extracting the text\n",
    "    #text = pytesseract.image_to_string(img, config= custom_config,lang='eng')\n",
    "    text = pytesseract.image_to_string(img, lang='eng')\n",
    "\n",
    "    # Appending to the list\n",
    "    text_from_images.append(text)"
   ]
  },
  {
   "cell_type": "code",
   "execution_count": 54,
   "metadata": {
    "colab": {
     "base_uri": "https://localhost:8080/",
     "height": 195
    },
    "colab_type": "code",
    "id": "ZoIBLkk2-Zr3",
    "outputId": "de61d16e-73dd-40d1-b45a-8a3770fcb52c"
   },
   "outputs": [
    {
     "data": {
      "text/html": [
       "<div>\n",
       "<style scoped>\n",
       "    .dataframe tbody tr th:only-of-type {\n",
       "        vertical-align: middle;\n",
       "    }\n",
       "\n",
       "    .dataframe tbody tr th {\n",
       "        vertical-align: top;\n",
       "    }\n",
       "\n",
       "    .dataframe thead th {\n",
       "        text-align: right;\n",
       "    }\n",
       "</style>\n",
       "<table border=\"1\" class=\"dataframe\">\n",
       "  <thead>\n",
       "    <tr style=\"text-align: right;\">\n",
       "      <th></th>\n",
       "      <th>Filename</th>\n",
       "      <th>Category</th>\n",
       "      <th>Content</th>\n",
       "    </tr>\n",
       "  </thead>\n",
       "  <tbody>\n",
       "    <tr>\n",
       "      <th>0</th>\n",
       "      <td>Test1001.jpg</td>\n",
       "      <td>NaN</td>\n",
       "      <td>When people ask\\nwhat I see in you,\\nI just sm...</td>\n",
       "    </tr>\n",
       "    <tr>\n",
       "      <th>1</th>\n",
       "      <td>Test1012.jpg</td>\n",
       "      <td>NaN</td>\n",
       "      <td>LOVE\\nocd)\\naie al\\nRao</td>\n",
       "    </tr>\n",
       "    <tr>\n",
       "      <th>2</th>\n",
       "      <td>Test1022.jpg</td>\n",
       "      <td>NaN</td>\n",
       "      <td>LOVE\\n®</td>\n",
       "    </tr>\n",
       "    <tr>\n",
       "      <th>3</th>\n",
       "      <td>Test1071.jpg</td>\n",
       "      <td>NaN</td>\n",
       "      <td>eee MU WALLA OL\\n\\nem eat nimeel ie\\n\\nnot liv...</td>\n",
       "    </tr>\n",
       "    <tr>\n",
       "      <th>4</th>\n",
       "      <td>Test1122.jpg</td>\n",
       "      <td>NaN</td>\n",
       "      <td>‘Zeigler, author of \"Fair Play: How LGBT Athle...</td>\n",
       "    </tr>\n",
       "  </tbody>\n",
       "</table>\n",
       "</div>"
      ],
      "text/plain": [
       "       Filename  Category                                            Content\n",
       "0  Test1001.jpg       NaN  When people ask\\nwhat I see in you,\\nI just sm...\n",
       "1  Test1012.jpg       NaN                            LOVE\\nocd)\\naie al\\nRao\n",
       "2  Test1022.jpg       NaN                                            LOVE\\n®\n",
       "3  Test1071.jpg       NaN  eee MU WALLA OL\\n\\nem eat nimeel ie\\n\\nnot liv...\n",
       "4  Test1122.jpg       NaN  ‘Zeigler, author of \"Fair Play: How LGBT Athle..."
      ]
     },
     "execution_count": 54,
     "metadata": {
      "tags": []
     },
     "output_type": "execute_result"
    }
   ],
   "source": [
    "data['Content'] = text_from_images\n",
    "data.head()"
   ]
  },
  {
   "cell_type": "code",
   "execution_count": 55,
   "metadata": {
    "colab": {},
    "colab_type": "code",
    "id": "lMUtt8AaINts"
   },
   "outputs": [],
   "source": [
    "data['Content']=data['Content'].apply(lambda x:re.sub(r'\\n',' ',x))\n",
    "website=r\"(?i)\\b((?:https?://|www\\d{0,3}[.]|[a-z0-9.\\-]+[.][a-z]{2,4}/)(?:[^\\s()<>]+|\\(([^\\s()<>]+|(\\([^\\s()<>]+\\)))*\\))+(?:\\(([^\\s()<>]+|(\\([^\\s()<>]+\\)))*\\)|[^\\s`!()\\[\\]{};:'\\\".,<>?«»“”‘’]))\"\n",
    "data['Content']=data['Content'].apply(lambda x:re.sub(website,'',x))\n",
    "words = set(nltk.corpus.words.words())\n",
    "data['Content']=data['Content'].apply(lambda x:\" \".join(w for w in nltk.wordpunct_tokenize(x) if w.lower() in words))"
   ]
  },
  {
   "cell_type": "code",
   "execution_count": 56,
   "metadata": {
    "colab": {
     "base_uri": "https://localhost:8080/",
     "height": 195
    },
    "colab_type": "code",
    "id": "SzJTfAYfJp92",
    "outputId": "95f287b5-e930-4328-a24d-c5751bfdb429"
   },
   "outputs": [
    {
     "data": {
      "text/html": [
       "<div>\n",
       "<style scoped>\n",
       "    .dataframe tbody tr th:only-of-type {\n",
       "        vertical-align: middle;\n",
       "    }\n",
       "\n",
       "    .dataframe tbody tr th {\n",
       "        vertical-align: top;\n",
       "    }\n",
       "\n",
       "    .dataframe thead th {\n",
       "        text-align: right;\n",
       "    }\n",
       "</style>\n",
       "<table border=\"1\" class=\"dataframe\">\n",
       "  <thead>\n",
       "    <tr style=\"text-align: right;\">\n",
       "      <th></th>\n",
       "      <th>Filename</th>\n",
       "      <th>Category</th>\n",
       "      <th>Content</th>\n",
       "    </tr>\n",
       "  </thead>\n",
       "  <tbody>\n",
       "    <tr>\n",
       "      <th>0</th>\n",
       "      <td>Test1001.jpg</td>\n",
       "      <td>NaN</td>\n",
       "      <td>When people ask what I see in you I just smile...</td>\n",
       "    </tr>\n",
       "    <tr>\n",
       "      <th>1</th>\n",
       "      <td>Test1012.jpg</td>\n",
       "      <td>NaN</td>\n",
       "      <td>LOVE al</td>\n",
       "    </tr>\n",
       "    <tr>\n",
       "      <th>2</th>\n",
       "      <td>Test1022.jpg</td>\n",
       "      <td>NaN</td>\n",
       "      <td>LOVE</td>\n",
       "    </tr>\n",
       "    <tr>\n",
       "      <th>3</th>\n",
       "      <td>Test1071.jpg</td>\n",
       "      <td>NaN</td>\n",
       "      <td>MU em eat ie not living by society s but deep ...</td>\n",
       "    </tr>\n",
       "    <tr>\n",
       "      <th>4</th>\n",
       "      <td>Test1122.jpg</td>\n",
       "      <td>NaN</td>\n",
       "      <td>author of Fair Play How are their Rightful Pla...</td>\n",
       "    </tr>\n",
       "  </tbody>\n",
       "</table>\n",
       "</div>"
      ],
      "text/plain": [
       "       Filename  Category                                            Content\n",
       "0  Test1001.jpg       NaN  When people ask what I see in you I just smile...\n",
       "1  Test1012.jpg       NaN                                            LOVE al\n",
       "2  Test1022.jpg       NaN                                               LOVE\n",
       "3  Test1071.jpg       NaN  MU em eat ie not living by society s but deep ...\n",
       "4  Test1122.jpg       NaN  author of Fair Play How are their Rightful Pla..."
      ]
     },
     "execution_count": 56,
     "metadata": {
      "tags": []
     },
     "output_type": "execute_result"
    }
   ],
   "source": [
    "data.head()"
   ]
  },
  {
   "cell_type": "markdown",
   "metadata": {
    "colab_type": "text",
    "id": "6wy_Egi8gzy_"
   },
   "source": [
    "- Cleaning the text to remove unwanted data."
   ]
  },
  {
   "cell_type": "markdown",
   "metadata": {
    "colab_type": "text",
    "id": "703DvihuDvJy"
   },
   "source": [
    "## OCR (without any image preprocessing) using easyocr"
   ]
  },
  {
   "cell_type": "code",
   "execution_count": 57,
   "metadata": {
    "colab": {
     "base_uri": "https://localhost:8080/",
     "height": 195
    },
    "colab_type": "code",
    "id": "V5jG-Nx2RD9-",
    "outputId": "92545983-559f-4673-eedb-8aa0c6b8d582"
   },
   "outputs": [
    {
     "data": {
      "text/html": [
       "<div>\n",
       "<style scoped>\n",
       "    .dataframe tbody tr th:only-of-type {\n",
       "        vertical-align: middle;\n",
       "    }\n",
       "\n",
       "    .dataframe tbody tr th {\n",
       "        vertical-align: top;\n",
       "    }\n",
       "\n",
       "    .dataframe thead th {\n",
       "        text-align: right;\n",
       "    }\n",
       "</style>\n",
       "<table border=\"1\" class=\"dataframe\">\n",
       "  <thead>\n",
       "    <tr style=\"text-align: right;\">\n",
       "      <th></th>\n",
       "      <th>Filename</th>\n",
       "      <th>Category</th>\n",
       "      <th>Content</th>\n",
       "    </tr>\n",
       "  </thead>\n",
       "  <tbody>\n",
       "    <tr>\n",
       "      <th>0</th>\n",
       "      <td>Test1012.jpg</td>\n",
       "      <td>NaN</td>\n",
       "      <td>LOVE al</td>\n",
       "    </tr>\n",
       "    <tr>\n",
       "      <th>1</th>\n",
       "      <td>Test1022.jpg</td>\n",
       "      <td>NaN</td>\n",
       "      <td>LOVE</td>\n",
       "    </tr>\n",
       "    <tr>\n",
       "      <th>2</th>\n",
       "      <td>Test1161.jpg</td>\n",
       "      <td>NaN</td>\n",
       "      <td></td>\n",
       "    </tr>\n",
       "    <tr>\n",
       "      <th>3</th>\n",
       "      <td>Test1279.jpg</td>\n",
       "      <td>NaN</td>\n",
       "      <td></td>\n",
       "    </tr>\n",
       "    <tr>\n",
       "      <th>4</th>\n",
       "      <td>Test1290.jpg</td>\n",
       "      <td>NaN</td>\n",
       "      <td></td>\n",
       "    </tr>\n",
       "  </tbody>\n",
       "</table>\n",
       "</div>"
      ],
      "text/plain": [
       "       Filename  Category  Content\n",
       "0  Test1012.jpg       NaN  LOVE al\n",
       "1  Test1022.jpg       NaN     LOVE\n",
       "2  Test1161.jpg       NaN         \n",
       "3  Test1279.jpg       NaN         \n",
       "4  Test1290.jpg       NaN         "
      ]
     },
     "execution_count": 57,
     "metadata": {
      "tags": []
     },
     "output_type": "execute_result"
    }
   ],
   "source": [
    "filename,category,content=[],[],[]\n",
    "for i in data.index:\n",
    "    if(data['Content'][i]=='' or len(data['Content'][i].split())==1 or len(data['Content'][i].split())==2):\n",
    "        filename.append(data['Filename'][i])\n",
    "        category.append(data['Category'][i])\n",
    "        content.append(data['Content'][i])\n",
    "data_with_no_text_dict={'Filename':filename,'Category':category,'Content':content}\n",
    "data_with_no_text=pd.DataFrame(data_with_no_text_dict)\n",
    "data_with_no_text.head()"
   ]
  },
  {
   "cell_type": "code",
   "execution_count": 58,
   "metadata": {
    "colab": {},
    "colab_type": "code",
    "id": "2_f5mCm8Dyed"
   },
   "outputs": [],
   "source": [
    "text_from_remaining_images=[]\n",
    "# Adding custom options\n",
    "#custom_config = r'--oem 3 --psm 6'\n",
    "#custom_config = r'--psm 7'\n",
    "for i in data_with_no_text.index:\n",
    "    path = os.path.join(test_images,data_with_no_text['Filename'][i])\n",
    "    # Reading the image\n",
    "    img = cv2.imread(path)\n",
    "\n",
    "    # Preprocessing the image\n",
    "    #img = image_preprocessing_for_ocr(img)\n",
    "\n",
    "    # Extracting the text\n",
    "    temp = reader.readtext(img)\n",
    "    text = \" \".join(t[1] for t in temp)\n",
    "\n",
    "    # Appending to the list\n",
    "    text_from_remaining_images.append(text)"
   ]
  },
  {
   "cell_type": "code",
   "execution_count": 59,
   "metadata": {
    "colab": {},
    "colab_type": "code",
    "id": "FcdieUEwKS9G"
   },
   "outputs": [],
   "source": [
    "data_with_no_text['Content'] = text_from_remaining_images"
   ]
  },
  {
   "cell_type": "code",
   "execution_count": 60,
   "metadata": {
    "colab": {
     "base_uri": "https://localhost:8080/",
     "height": 101
    },
    "colab_type": "code",
    "id": "k7cHrCc7KcG0",
    "outputId": "52768eb1-0d65-4fef-d82d-9c525ebd14e6"
   },
   "outputs": [
    {
     "name": "stderr",
     "output_type": "stream",
     "text": [
      "/usr/local/lib/python3.6/dist-packages/ipykernel_launcher.py:5: SettingWithCopyWarning: \n",
      "A value is trying to be set on a copy of a slice from a DataFrame\n",
      "\n",
      "See the caveats in the documentation: https://pandas.pydata.org/pandas-docs/stable/user_guide/indexing.html#returning-a-view-versus-a-copy\n",
      "  \"\"\"\n"
     ]
    }
   ],
   "source": [
    "for i in data_with_no_text.index:\n",
    "    if data_with_no_text['Content'][i]!='':\n",
    "        for j in data.index:\n",
    "            if data['Filename'][j]==data_with_no_text['Filename'][i]:\n",
    "                data['Content'][j]=data_with_no_text['Content'][i]"
   ]
  },
  {
   "cell_type": "code",
   "execution_count": 61,
   "metadata": {
    "colab": {},
    "colab_type": "code",
    "id": "YC3MGF0eU0z2"
   },
   "outputs": [],
   "source": [
    "data['Content']=data['Content'].apply(lambda x:re.sub(r'\\n',' ',x))\n",
    "website=r\"(?i)\\b((?:https?://|www\\d{0,3}[.]|[a-z0-9.\\-]+[.][a-z]{2,4}/)(?:[^\\s()<>]+|\\(([^\\s()<>]+|(\\([^\\s()<>]+\\)))*\\))+(?:\\(([^\\s()<>]+|(\\([^\\s()<>]+\\)))*\\)|[^\\s`!()\\[\\]{};:'\\\".,<>?«»“”‘’]))\"\n",
    "data['Content']=data['Content'].apply(lambda x:re.sub(website,'',x))"
   ]
  },
  {
   "cell_type": "code",
   "execution_count": 62,
   "metadata": {
    "colab": {
     "base_uri": "https://localhost:8080/",
     "height": 34
    },
    "colab_type": "code",
    "id": "QWr66SSUNwzm",
    "outputId": "1ff946a4-22a0-444c-ac09-fc19bd52f4fb"
   },
   "outputs": [
    {
     "data": {
      "text/plain": [
       "53"
      ]
     },
     "execution_count": 62,
     "metadata": {
      "tags": []
     },
     "output_type": "execute_result"
    }
   ],
   "source": [
    "len(data[data['Content']==''])"
   ]
  },
  {
   "cell_type": "markdown",
   "metadata": {
    "colab_type": "text",
    "id": "Lx5_qYb_kWE7"
   },
   "source": [
    "- Number of images with no content"
   ]
  },
  {
   "cell_type": "code",
   "execution_count": 63,
   "metadata": {
    "colab": {
     "base_uri": "https://localhost:8080/",
     "height": 195
    },
    "colab_type": "code",
    "id": "o7arhI-MIwCx",
    "outputId": "791990b7-3e65-4478-8f5c-d7bdd4bb86b8"
   },
   "outputs": [
    {
     "data": {
      "text/html": [
       "<div>\n",
       "<style scoped>\n",
       "    .dataframe tbody tr th:only-of-type {\n",
       "        vertical-align: middle;\n",
       "    }\n",
       "\n",
       "    .dataframe tbody tr th {\n",
       "        vertical-align: top;\n",
       "    }\n",
       "\n",
       "    .dataframe thead th {\n",
       "        text-align: right;\n",
       "    }\n",
       "</style>\n",
       "<table border=\"1\" class=\"dataframe\">\n",
       "  <thead>\n",
       "    <tr style=\"text-align: right;\">\n",
       "      <th></th>\n",
       "      <th>Filename</th>\n",
       "      <th>Category</th>\n",
       "      <th>Content</th>\n",
       "    </tr>\n",
       "  </thead>\n",
       "  <tbody>\n",
       "    <tr>\n",
       "      <th>0</th>\n",
       "      <td>Test1001.jpg</td>\n",
       "      <td>NaN</td>\n",
       "      <td>When people ask what I see in you I just smile...</td>\n",
       "    </tr>\n",
       "    <tr>\n",
       "      <th>1</th>\n",
       "      <td>Test1012.jpg</td>\n",
       "      <td>NaN</td>\n",
       "      <td>LovE Is To0 BEAunIL TO gE HlDDl3l IN THE CLOSIs</td>\n",
       "    </tr>\n",
       "    <tr>\n",
       "      <th>2</th>\n",
       "      <td>Test1022.jpg</td>\n",
       "      <td>NaN</td>\n",
       "      <td>LOV  is aeve</td>\n",
       "    </tr>\n",
       "    <tr>\n",
       "      <th>3</th>\n",
       "      <td>Test1071.jpg</td>\n",
       "      <td>NaN</td>\n",
       "      <td>MU em eat ie not living by society s but deep ...</td>\n",
       "    </tr>\n",
       "    <tr>\n",
       "      <th>4</th>\n",
       "      <td>Test1122.jpg</td>\n",
       "      <td>NaN</td>\n",
       "      <td>author of Fair Play How are their Rightful Pla...</td>\n",
       "    </tr>\n",
       "  </tbody>\n",
       "</table>\n",
       "</div>"
      ],
      "text/plain": [
       "       Filename  Category                                            Content\n",
       "0  Test1001.jpg       NaN  When people ask what I see in you I just smile...\n",
       "1  Test1012.jpg       NaN    LovE Is To0 BEAunIL TO gE HlDDl3l IN THE CLOSIs\n",
       "2  Test1022.jpg       NaN                                    LOV  is aeve   \n",
       "3  Test1071.jpg       NaN  MU em eat ie not living by society s but deep ...\n",
       "4  Test1122.jpg       NaN  author of Fair Play How are their Rightful Pla..."
      ]
     },
     "execution_count": 63,
     "metadata": {
      "tags": []
     },
     "output_type": "execute_result"
    }
   ],
   "source": [
    "data.head()"
   ]
  },
  {
   "cell_type": "code",
   "execution_count": 64,
   "metadata": {
    "colab": {
     "base_uri": "https://localhost:8080/",
     "height": 195
    },
    "colab_type": "code",
    "id": "nWSNAPcfIx9s",
    "outputId": "2610cf5e-24f5-4b6f-8827-33ff0d85af92"
   },
   "outputs": [
    {
     "data": {
      "text/html": [
       "<div>\n",
       "<style scoped>\n",
       "    .dataframe tbody tr th:only-of-type {\n",
       "        vertical-align: middle;\n",
       "    }\n",
       "\n",
       "    .dataframe tbody tr th {\n",
       "        vertical-align: top;\n",
       "    }\n",
       "\n",
       "    .dataframe thead th {\n",
       "        text-align: right;\n",
       "    }\n",
       "</style>\n",
       "<table border=\"1\" class=\"dataframe\">\n",
       "  <thead>\n",
       "    <tr style=\"text-align: right;\">\n",
       "      <th></th>\n",
       "      <th>Filename</th>\n",
       "      <th>Category</th>\n",
       "      <th>Content</th>\n",
       "    </tr>\n",
       "  </thead>\n",
       "  <tbody>\n",
       "    <tr>\n",
       "      <th>234</th>\n",
       "      <td>Test243.jpg</td>\n",
       "      <td>NaN</td>\n",
       "      <td>FREEDOM mo Middle</td>\n",
       "    </tr>\n",
       "    <tr>\n",
       "      <th>235</th>\n",
       "      <td>Test244.jpg</td>\n",
       "      <td>NaN</td>\n",
       "      <td></td>\n",
       "    </tr>\n",
       "    <tr>\n",
       "      <th>236</th>\n",
       "      <td>Test245.jpg</td>\n",
       "      <td>NaN</td>\n",
       "      <td>Anti Bullying that have bullying of on the bas...</td>\n",
       "    </tr>\n",
       "    <tr>\n",
       "      <th>237</th>\n",
       "      <td>Test249.jpg</td>\n",
       "      <td>NaN</td>\n",
       "      <td>IN</td>\n",
       "    </tr>\n",
       "    <tr>\n",
       "      <th>238</th>\n",
       "      <td>Test250.jpg</td>\n",
       "      <td>NaN</td>\n",
       "      <td>5 BESTGAY QUOTES  BL0 G NE T</td>\n",
       "    </tr>\n",
       "  </tbody>\n",
       "</table>\n",
       "</div>"
      ],
      "text/plain": [
       "        Filename  Category                                            Content\n",
       "234  Test243.jpg       NaN                                  FREEDOM mo Middle\n",
       "235  Test244.jpg       NaN                                                   \n",
       "236  Test245.jpg       NaN  Anti Bullying that have bullying of on the bas...\n",
       "237  Test249.jpg       NaN                                                 IN\n",
       "238  Test250.jpg       NaN                       5 BESTGAY QUOTES  BL0 G NE T"
      ]
     },
     "execution_count": 64,
     "metadata": {
      "tags": []
     },
     "output_type": "execute_result"
    }
   ],
   "source": [
    "data.tail()"
   ]
  },
  {
   "cell_type": "markdown",
   "metadata": {
    "colab_type": "text",
    "id": "5_WU6gVag_PU"
   },
   "source": [
    "## Training a model on Twitter sentiment classification data"
   ]
  },
  {
   "cell_type": "code",
   "execution_count": 201,
   "metadata": {
    "colab": {
     "base_uri": "https://localhost:8080/",
     "height": 195
    },
    "colab_type": "code",
    "id": "FyWSZ7QfWByT",
    "outputId": "03fbd8c7-6a95-4e98-ee0a-561c656e46f0"
   },
   "outputs": [
    {
     "data": {
      "text/html": [
       "<div>\n",
       "<style scoped>\n",
       "    .dataframe tbody tr th:only-of-type {\n",
       "        vertical-align: middle;\n",
       "    }\n",
       "\n",
       "    .dataframe tbody tr th {\n",
       "        vertical-align: top;\n",
       "    }\n",
       "\n",
       "    .dataframe thead th {\n",
       "        text-align: right;\n",
       "    }\n",
       "</style>\n",
       "<table border=\"1\" class=\"dataframe\">\n",
       "  <thead>\n",
       "    <tr style=\"text-align: right;\">\n",
       "      <th></th>\n",
       "      <th>ItemID</th>\n",
       "      <th>Sentiment</th>\n",
       "      <th>SentimentSource</th>\n",
       "      <th>SentimentText</th>\n",
       "    </tr>\n",
       "  </thead>\n",
       "  <tbody>\n",
       "    <tr>\n",
       "      <th>0</th>\n",
       "      <td>1</td>\n",
       "      <td>0</td>\n",
       "      <td>Sentiment140</td>\n",
       "      <td>is so sad for my APL frie...</td>\n",
       "    </tr>\n",
       "    <tr>\n",
       "      <th>1</th>\n",
       "      <td>2</td>\n",
       "      <td>0</td>\n",
       "      <td>Sentiment140</td>\n",
       "      <td>I missed the New Moon trail...</td>\n",
       "    </tr>\n",
       "    <tr>\n",
       "      <th>2</th>\n",
       "      <td>3</td>\n",
       "      <td>1</td>\n",
       "      <td>Sentiment140</td>\n",
       "      <td>omg its already 7:30 :O</td>\n",
       "    </tr>\n",
       "    <tr>\n",
       "      <th>3</th>\n",
       "      <td>4</td>\n",
       "      <td>0</td>\n",
       "      <td>Sentiment140</td>\n",
       "      <td>.. Omgaga. Im sooo  im gunna CRy. I'...</td>\n",
       "    </tr>\n",
       "    <tr>\n",
       "      <th>4</th>\n",
       "      <td>5</td>\n",
       "      <td>0</td>\n",
       "      <td>Sentiment140</td>\n",
       "      <td>i think mi bf is cheating on me!!!   ...</td>\n",
       "    </tr>\n",
       "  </tbody>\n",
       "</table>\n",
       "</div>"
      ],
      "text/plain": [
       "   ItemID  ...                                      SentimentText\n",
       "0       1  ...                       is so sad for my APL frie...\n",
       "1       2  ...                     I missed the New Moon trail...\n",
       "2       3  ...                            omg its already 7:30 :O\n",
       "3       4  ...            .. Omgaga. Im sooo  im gunna CRy. I'...\n",
       "4       5  ...           i think mi bf is cheating on me!!!   ...\n",
       "\n",
       "[5 rows x 4 columns]"
      ]
     },
     "execution_count": 201,
     "metadata": {
      "tags": []
     },
     "output_type": "execute_result"
    }
   ],
   "source": [
    "train=pd.read_csv(r'/content/drive/My Drive/Sentiment Analysis Dataset.csv', skiprows=[8835, 535881])\n",
    "#train=train.iloc[:1000000,:]\n",
    "train.head()"
   ]
  },
  {
   "cell_type": "code",
   "execution_count": 202,
   "metadata": {
    "colab": {
     "base_uri": "https://localhost:8080/",
     "height": 34
    },
    "colab_type": "code",
    "id": "kEbFVtHaA8tp",
    "outputId": "863932ce-0558-4470-9ad6-f25bb34a37c7"
   },
   "outputs": [
    {
     "data": {
      "text/plain": [
       "(1578612, 4)"
      ]
     },
     "execution_count": 202,
     "metadata": {
      "tags": []
     },
     "output_type": "execute_result"
    }
   ],
   "source": [
    "train.shape"
   ]
  },
  {
   "cell_type": "code",
   "execution_count": 203,
   "metadata": {
    "colab": {},
    "colab_type": "code",
    "id": "cC7QWmr6a3Ye"
   },
   "outputs": [],
   "source": [
    "tweets = train['SentimentText']\n",
    "labels = train['Sentiment']"
   ]
  },
  {
   "cell_type": "code",
   "execution_count": 204,
   "metadata": {
    "colab": {
     "base_uri": "https://localhost:8080/",
     "height": 313
    },
    "colab_type": "code",
    "id": "RYcokuchbYXR",
    "outputId": "5e09fa36-6313-4f39-aaac-802ba64463a9"
   },
   "outputs": [
    {
     "name": "stdout",
     "output_type": "stream",
     "text": [
      "1    790177\n",
      "0    788435\n",
      "Name: Sentiment, dtype: int64\n"
     ]
    },
    {
     "data": {
      "image/png": "[encoded data removed]",
      "text/plain": [
       "<Figure size 432x288 with 1 Axes>"
      ]
     },
     "metadata": {
      "needs_background": "light",
      "tags": []
     },
     "output_type": "display_data"
    }
   ],
   "source": [
    "labels_count = labels.value_counts()\n",
    "labels_count.plot(kind=\"bar\")\n",
    "print(labels.value_counts())"
   ]
  },
  {
   "cell_type": "code",
   "execution_count": 205,
   "metadata": {
    "colab": {},
    "colab_type": "code",
    "id": "48t6xqC5bc-X"
   },
   "outputs": [],
   "source": [
    "tkr = RegexpTokenizer('[a-zA-Z@]+')\n",
    "tweets_split = []\n",
    "for i, line in enumerate(tweets):\n",
    "    #print(line)\n",
    "    tweet = str(line).lower().split()\n",
    "    tweet = tkr.tokenize(str(tweet))\n",
    "    tweets_split.append(tweet)"
   ]
  },
  {
   "cell_type": "markdown",
   "metadata": {
    "colab_type": "text",
    "id": "pum-bl2qhLvb"
   },
   "source": [
    "### Downloading the Glove(Global vectors for word representation) file for creating the embedding matrix"
   ]
  },
  {
   "cell_type": "code",
   "execution_count": 70,
   "metadata": {
    "colab": {
     "base_uri": "https://localhost:8080/",
     "height": 353
    },
    "colab_type": "code",
    "id": "foGqnpujeHMm",
    "outputId": "e3298e0e-7936-4f2a-ca5c-5234396b3475"
   },
   "outputs": [
    {
     "name": "stdout",
     "output_type": "stream",
     "text": [
      "--2020-07-20 08:39:24--  http://nlp.stanford.edu/data/glove.6B.zip\n",
      "Resolving nlp.stanford.edu (nlp.stanford.edu)... 171.64.67.140\n",
      "Connecting to nlp.stanford.edu (nlp.stanford.edu)|171.64.67.140|:80... connected.\n",
      "HTTP request sent, awaiting response... 302 Found\n",
      "Location: https://nlp.stanford.edu/data/glove.6B.zip [following]\n",
      "--2020-07-20 08:39:25--  https://nlp.stanford.edu/data/glove.6B.zip\n",
      "Connecting to nlp.stanford.edu (nlp.stanford.edu)|171.64.67.140|:443... connected.\n",
      "HTTP request sent, awaiting response... 301 Moved Permanently\n",
      "Location: http://downloads.cs.stanford.edu/nlp/data/glove.6B.zip [following]\n",
      "--2020-07-20 08:39:25--  http://downloads.cs.stanford.edu/nlp/data/glove.6B.zip\n",
      "Resolving downloads.cs.stanford.edu (downloads.cs.stanford.edu)... 171.64.64.22\n",
      "Connecting to downloads.cs.stanford.edu (downloads.cs.stanford.edu)|171.64.64.22|:80... connected.\n",
      "HTTP request sent, awaiting response... 200 OK\n",
      "Length: 862182613 (822M) [application/zip]\n",
      "Saving to: ‘glove.6B.zip’\n",
      "\n",
      "glove.6B.zip        100%[===================>] 822.24M  2.11MB/s    in 6m 29s  \n",
      "\n",
      "2020-07-20 08:45:55 (2.11 MB/s) - ‘glove.6B.zip’ saved [862182613/862182613]\n",
      "\n"
     ]
    }
   ],
   "source": [
    "!wget http://nlp.stanford.edu/data/glove.6B.zip"
   ]
  },
  {
   "cell_type": "code",
   "execution_count": 71,
   "metadata": {
    "colab": {
     "base_uri": "https://localhost:8080/",
     "height": 101
    },
    "colab_type": "code",
    "id": "fqPSLrDQe6vS",
    "outputId": "b7f2af77-98a5-4492-9835-e4b8bc7bc45c"
   },
   "outputs": [
    {
     "name": "stdout",
     "output_type": "stream",
     "text": [
      "Archive:  /content/glove.6B.zip\n",
      "  inflating: glove.6B.50d.txt        \n",
      "  inflating: glove.6B.100d.txt       \n",
      "  inflating: glove.6B.200d.txt       \n",
      "  inflating: glove.6B.300d.txt       \n"
     ]
    }
   ],
   "source": [
    "!unzip /content/glove.6B.zip"
   ]
  },
  {
   "cell_type": "code",
   "execution_count": 72,
   "metadata": {
    "colab": {},
    "colab_type": "code",
    "id": "lT7S-Na2gk9j"
   },
   "outputs": [],
   "source": [
    "embeddings_index = {}\n",
    "f = open(r'/content/glove.6B.100d.txt')\n",
    "for line in f:\n",
    "    values = line.split()\n",
    "    word = values[0]\n",
    "    coefs = np.asarray(values[1:], dtype='float32')\n",
    "    embeddings_index[word] = coefs\n",
    "f.close()"
   ]
  },
  {
   "cell_type": "markdown",
   "metadata": {
    "colab_type": "text",
    "id": "IrOZPiVFhbW9"
   },
   "source": [
    "- Creating an embedding dictionary."
   ]
  },
  {
   "cell_type": "code",
   "execution_count": 73,
   "metadata": {
    "colab": {
     "base_uri": "https://localhost:8080/",
     "height": 34
    },
    "colab_type": "code",
    "id": "XItJEWwthGW9",
    "outputId": "078b5c58-0cf3-49b3-fe8b-d53172e22f2f"
   },
   "outputs": [
    {
     "name": "stdout",
     "output_type": "stream",
     "text": [
      "Total number of word vectors are: 400000\n"
     ]
    }
   ],
   "source": [
    "print('Total number of word vectors are:' , len(embeddings_index))"
   ]
  },
  {
   "cell_type": "code",
   "execution_count": 74,
   "metadata": {
    "colab": {},
    "colab_type": "code",
    "id": "yIy-cOCThQQA"
   },
   "outputs": [],
   "source": [
    "max_words = len(embeddings_index)\n",
    "embedding_dim = 100\n",
    "embedding_matrix = np.zeros((max_words, embedding_dim))\n",
    "count = 0\n",
    "for word, i in embeddings_index.items():\n",
    "    embedding_vector = embeddings_index.get(word)\n",
    "    if embedding_vector is not None:\n",
    "        embedding_matrix[count] = embedding_vector\n",
    "        count+=1"
   ]
  },
  {
   "cell_type": "markdown",
   "metadata": {
    "colab_type": "text",
    "id": "M6ziSQrDhftU"
   },
   "source": [
    "- Creating an embedding matrix to be used as weights for the embedding layer in the model."
   ]
  },
  {
   "cell_type": "markdown",
   "metadata": {
    "colab_type": "text",
    "id": "9uh2JzB3hqlc"
   },
   "source": [
    "### Text preprocessing"
   ]
  },
  {
   "cell_type": "code",
   "execution_count": 206,
   "metadata": {
    "colab": {},
    "colab_type": "code",
    "id": "spdjauNDjqae"
   },
   "outputs": [],
   "source": [
    "#Convert words to integers\n",
    "tokenizer = Tokenizer()\n",
    "tokenizer.fit_on_texts(tweets_split)\n",
    "text = tokenizer.texts_to_sequences(tweets_split)"
   ]
  },
  {
   "cell_type": "code",
   "execution_count": 207,
   "metadata": {
    "colab": {
     "base_uri": "https://localhost:8080/",
     "height": 34
    },
    "colab_type": "code",
    "id": "XZcVtAomjsZB",
    "outputId": "52dce9be-bff8-4c4b-f147-d1343772e557"
   },
   "outputs": [
    {
     "name": "stdout",
     "output_type": "stream",
     "text": [
      "(1578612, 40)\n"
     ]
    }
   ],
   "source": [
    "#lenght of tweet to consider\n",
    "maxlentweet = 40\n",
    "#add padding\n",
    "text = pad_sequences(text, maxlen=maxlentweet)\n",
    "print(text.shape)"
   ]
  },
  {
   "cell_type": "code",
   "execution_count": 208,
   "metadata": {
    "colab": {},
    "colab_type": "code",
    "id": "oWee-U5Ik0yt"
   },
   "outputs": [],
   "source": [
    "train_size=int(text.shape[0]-text.shape[0]*0.20)\n",
    "train_x=text[:train_size]\n",
    "train_y=labels[:train_size]\n",
    "val_x=text[train_size:]\n",
    "val_y=labels[train_size:]"
   ]
  },
  {
   "cell_type": "markdown",
   "metadata": {
    "colab_type": "text",
    "id": "EvvbiUwwhvlb"
   },
   "source": [
    "### Defining and training the model"
   ]
  },
  {
   "cell_type": "code",
   "execution_count": 209,
   "metadata": {
    "colab": {
     "base_uri": "https://localhost:8080/",
     "height": 302
    },
    "colab_type": "code",
    "id": "Bv6Ejy-wi7tc",
    "outputId": "cba45dfb-6c1c-404a-840c-bc8470f97b19"
   },
   "outputs": [
    {
     "name": "stdout",
     "output_type": "stream",
     "text": [
      "Model: \"sequential_7\"\n",
      "_________________________________________________________________\n",
      "Layer (type)                 Output Shape              Param #   \n",
      "=================================================================\n",
      "embedding_7 (Embedding)      (None, 40, 100)           40000000  \n",
      "_________________________________________________________________\n",
      "lstm_7 (LSTM)                (None, 80)                57920     \n",
      "_________________________________________________________________\n",
      "dropout_7 (Dropout)          (None, 80)                0         \n",
      "_________________________________________________________________\n",
      "dense_7 (Dense)              (None, 1)                 81        \n",
      "=================================================================\n",
      "Total params: 40,058,001\n",
      "Trainable params: 40,058,001\n",
      "Non-trainable params: 0\n",
      "_________________________________________________________________\n",
      "None\n"
     ]
    }
   ],
   "source": [
    "model=models.Sequential()\n",
    "model.add(layers.Embedding(max_words,embedding_dim,input_length=maxlentweet))\n",
    "model.add(layers.LSTM(units=80))\n",
    "model.add(layers.Dropout(0.5))\n",
    "model.add(layers.Dense(1, activation='sigmoid'))\n",
    "print(model.summary())"
   ]
  },
  {
   "cell_type": "code",
   "execution_count": 210,
   "metadata": {
    "colab": {
     "base_uri": "https://localhost:8080/",
     "height": 302
    },
    "colab_type": "code",
    "id": "iPgeSqz5mMme",
    "outputId": "c8521a78-d1f6-4236-b750-f952f81ecadd"
   },
   "outputs": [
    {
     "name": "stdout",
     "output_type": "stream",
     "text": [
      "Model: \"sequential_7\"\n",
      "_________________________________________________________________\n",
      "Layer (type)                 Output Shape              Param #   \n",
      "=================================================================\n",
      "embedding_7 (Embedding)      (None, 40, 100)           40000000  \n",
      "_________________________________________________________________\n",
      "lstm_7 (LSTM)                (None, 80)                57920     \n",
      "_________________________________________________________________\n",
      "dropout_7 (Dropout)          (None, 80)                0         \n",
      "_________________________________________________________________\n",
      "dense_7 (Dense)              (None, 1)                 81        \n",
      "=================================================================\n",
      "Total params: 40,058,001\n",
      "Trainable params: 58,001\n",
      "Non-trainable params: 40,000,000\n",
      "_________________________________________________________________\n",
      "None\n"
     ]
    }
   ],
   "source": [
    "model.layers[0].set_weights([embedding_matrix])\n",
    "model.layers[0].trainable = False\n",
    "print(model.summary())"
   ]
  },
  {
   "cell_type": "code",
   "execution_count": 211,
   "metadata": {
    "colab": {},
    "colab_type": "code",
    "id": "cHvHHhT1mYFl"
   },
   "outputs": [],
   "source": [
    "model.compile(loss='binary_crossentropy',\n",
    "              optimizer=optimizers.RMSprop(1e-3), \n",
    "              metrics=['accuracy'])"
   ]
  },
  {
   "cell_type": "code",
   "execution_count": 155,
   "metadata": {
    "colab": {},
    "colab_type": "code",
    "id": "UNmVrrIGnoeA"
   },
   "outputs": [],
   "source": [
    "earlystopper = EarlyStopping(patience=6, verbose=1)\n",
    "reduce_lr = ReduceLROnPlateau(monitor='val_loss', factor=0.2,\n",
    "                              patience=2, min_lr=1e-6, verbose=1)"
   ]
  },
  {
   "cell_type": "markdown",
   "metadata": {
    "colab_type": "text",
    "id": "MOgoAsafh21r"
   },
   "source": [
    "- Defining the callbacks."
   ]
  },
  {
   "cell_type": "code",
   "execution_count": 212,
   "metadata": {
    "colab": {
     "base_uri": "https://localhost:8080/",
     "height": 1000
    },
    "colab_type": "code",
    "id": "FUBzAVnumvcw",
    "outputId": "3485896a-d442-4eb0-fda4-cda6a81efb1d"
   },
   "outputs": [
    {
     "name": "stdout",
     "output_type": "stream",
     "text": [
      "Train on 1262889 samples, validate on 315723 samples\n",
      "Epoch 1/60\n",
      "1262889/1262889 [==============================] - 85s 68us/step - loss: 0.6307 - accuracy: 0.6397 - val_loss: 0.5838 - val_accuracy: 0.6919\n",
      "Epoch 2/60\n",
      "1262889/1262889 [==============================] - 84s 67us/step - loss: 0.5733 - accuracy: 0.6986 - val_loss: 0.5359 - val_accuracy: 0.7269\n",
      "Epoch 3/60\n",
      "1262889/1262889 [==============================] - 84s 67us/step - loss: 0.5408 - accuracy: 0.7244 - val_loss: 0.5064 - val_accuracy: 0.7508\n",
      "Epoch 4/60\n",
      "1262889/1262889 [==============================] - 85s 67us/step - loss: 0.5219 - accuracy: 0.7388 - val_loss: 0.4911 - val_accuracy: 0.7627\n",
      "Epoch 5/60\n",
      "1262889/1262889 [==============================] - 84s 67us/step - loss: 0.5091 - accuracy: 0.7490 - val_loss: 0.4925 - val_accuracy: 0.7611\n",
      "Epoch 6/60\n",
      "1262889/1262889 [==============================] - 84s 67us/step - loss: 0.4973 - accuracy: 0.7564 - val_loss: 0.4688 - val_accuracy: 0.7786\n",
      "Epoch 7/60\n",
      "1262889/1262889 [==============================] - 85s 67us/step - loss: 0.4899 - accuracy: 0.7621 - val_loss: 0.4631 - val_accuracy: 0.7814\n",
      "Epoch 8/60\n",
      "1262889/1262889 [==============================] - 85s 67us/step - loss: 0.4816 - accuracy: 0.7678 - val_loss: 0.4565 - val_accuracy: 0.7853\n",
      "Epoch 9/60\n",
      "1262889/1262889 [==============================] - 85s 67us/step - loss: 0.4743 - accuracy: 0.7728 - val_loss: 0.4518 - val_accuracy: 0.7893\n",
      "Epoch 10/60\n",
      "1262889/1262889 [==============================] - 84s 67us/step - loss: 0.4686 - accuracy: 0.7761 - val_loss: 0.4498 - val_accuracy: 0.7916\n",
      "Epoch 11/60\n",
      "1262889/1262889 [==============================] - 85s 67us/step - loss: 0.4631 - accuracy: 0.7801 - val_loss: 0.4440 - val_accuracy: 0.7934\n",
      "Epoch 12/60\n",
      "1262889/1262889 [==============================] - 84s 67us/step - loss: 0.4597 - accuracy: 0.7825 - val_loss: 0.4648 - val_accuracy: 0.7797\n",
      "Epoch 13/60\n",
      "1262889/1262889 [==============================] - 84s 67us/step - loss: 0.4607 - accuracy: 0.7830 - val_loss: 0.4341 - val_accuracy: 0.7991\n",
      "Epoch 14/60\n",
      "1262889/1262889 [==============================] - 83s 66us/step - loss: 0.4514 - accuracy: 0.7878 - val_loss: 0.4418 - val_accuracy: 0.7936\n",
      "Epoch 15/60\n",
      "1262889/1262889 [==============================] - 84s 66us/step - loss: 0.4479 - accuracy: 0.7898 - val_loss: 0.4300 - val_accuracy: 0.8013\n",
      "Epoch 16/60\n",
      "1262889/1262889 [==============================] - 84s 66us/step - loss: 0.4451 - accuracy: 0.7914 - val_loss: 0.4284 - val_accuracy: 0.8023\n",
      "Epoch 17/60\n",
      "1262889/1262889 [==============================] - 84s 66us/step - loss: 0.4423 - accuracy: 0.7936 - val_loss: 0.4235 - val_accuracy: 0.8066\n",
      "Epoch 18/60\n",
      "1262889/1262889 [==============================] - 84s 66us/step - loss: 0.4399 - accuracy: 0.7949 - val_loss: 0.4234 - val_accuracy: 0.8066\n",
      "Epoch 19/60\n",
      "1262889/1262889 [==============================] - 83s 66us/step - loss: 0.4376 - accuracy: 0.7960 - val_loss: 0.4208 - val_accuracy: 0.8072\n",
      "Epoch 20/60\n",
      "1262889/1262889 [==============================] - 84s 66us/step - loss: 0.4354 - accuracy: 0.7974 - val_loss: 0.4248 - val_accuracy: 0.8067\n",
      "Epoch 21/60\n",
      "1262889/1262889 [==============================] - 83s 66us/step - loss: 0.4330 - accuracy: 0.7988 - val_loss: 0.4242 - val_accuracy: 0.8053\n",
      "\n",
      "Epoch 00021: ReduceLROnPlateau reducing learning rate to 0.00020000000949949026.\n",
      "Epoch 22/60\n",
      "1262889/1262889 [==============================] - 84s 66us/step - loss: 0.4250 - accuracy: 0.8038 - val_loss: 0.4162 - val_accuracy: 0.8101\n",
      "Epoch 23/60\n",
      "1262889/1262889 [==============================] - 83s 66us/step - loss: 0.4240 - accuracy: 0.8042 - val_loss: 0.4164 - val_accuracy: 0.8098\n",
      "Epoch 24/60\n",
      "1262889/1262889 [==============================] - 83s 66us/step - loss: 0.4234 - accuracy: 0.8047 - val_loss: 0.4147 - val_accuracy: 0.8107\n",
      "Epoch 25/60\n",
      "1262889/1262889 [==============================] - 83s 66us/step - loss: 0.4229 - accuracy: 0.8048 - val_loss: 0.4143 - val_accuracy: 0.8111\n",
      "Epoch 26/60\n",
      "1262889/1262889 [==============================] - 84s 66us/step - loss: 0.4223 - accuracy: 0.8052 - val_loss: 0.4150 - val_accuracy: 0.8110\n",
      "Epoch 27/60\n",
      "1262889/1262889 [==============================] - 84s 66us/step - loss: 0.4219 - accuracy: 0.8055 - val_loss: 0.4141 - val_accuracy: 0.8110\n",
      "Epoch 28/60\n",
      "1262889/1262889 [==============================] - 84s 67us/step - loss: 0.4213 - accuracy: 0.8058 - val_loss: 0.4139 - val_accuracy: 0.8113\n",
      "Epoch 29/60\n",
      "1262889/1262889 [==============================] - 84s 67us/step - loss: 0.4209 - accuracy: 0.8058 - val_loss: 0.4137 - val_accuracy: 0.8115\n",
      "Epoch 30/60\n",
      "1262889/1262889 [==============================] - 84s 67us/step - loss: 0.4204 - accuracy: 0.8064 - val_loss: 0.4141 - val_accuracy: 0.8117\n",
      "Epoch 31/60\n",
      "1262889/1262889 [==============================] - 84s 67us/step - loss: 0.4198 - accuracy: 0.8065 - val_loss: 0.4125 - val_accuracy: 0.8119\n",
      "Epoch 32/60\n",
      "1262889/1262889 [==============================] - 85s 67us/step - loss: 0.4197 - accuracy: 0.8066 - val_loss: 0.4130 - val_accuracy: 0.8120\n",
      "Epoch 33/60\n",
      "1262889/1262889 [==============================] - 84s 67us/step - loss: 0.4191 - accuracy: 0.8069 - val_loss: 0.4122 - val_accuracy: 0.8120\n",
      "Epoch 34/60\n",
      "1262889/1262889 [==============================] - 84s 66us/step - loss: 0.4188 - accuracy: 0.8072 - val_loss: 0.4127 - val_accuracy: 0.8123\n",
      "Epoch 35/60\n",
      "1262889/1262889 [==============================] - 84s 67us/step - loss: 0.4181 - accuracy: 0.8075 - val_loss: 0.4129 - val_accuracy: 0.8121\n",
      "\n",
      "Epoch 00035: ReduceLROnPlateau reducing learning rate to 4.0000001899898055e-05.\n",
      "Epoch 36/60\n",
      "1262889/1262889 [==============================] - 84s 66us/step - loss: 0.4169 - accuracy: 0.8081 - val_loss: 0.4126 - val_accuracy: 0.8124\n",
      "Epoch 37/60\n",
      "1262889/1262889 [==============================] - 84s 66us/step - loss: 0.4171 - accuracy: 0.8083 - val_loss: 0.4123 - val_accuracy: 0.8126\n",
      "\n",
      "Epoch 00037: ReduceLROnPlateau reducing learning rate to 8.000000525498762e-06.\n",
      "Epoch 38/60\n",
      "1262889/1262889 [==============================] - 84s 66us/step - loss: 0.4163 - accuracy: 0.8086 - val_loss: 0.4120 - val_accuracy: 0.8127\n",
      "Epoch 39/60\n",
      "1262889/1262889 [==============================] - 84s 67us/step - loss: 0.4162 - accuracy: 0.8088 - val_loss: 0.4121 - val_accuracy: 0.8125\n",
      "Epoch 40/60\n",
      "1262889/1262889 [==============================] - 84s 67us/step - loss: 0.4164 - accuracy: 0.8085 - val_loss: 0.4119 - val_accuracy: 0.8126\n",
      "Epoch 41/60\n",
      "1262889/1262889 [==============================] - 84s 67us/step - loss: 0.4164 - accuracy: 0.8085 - val_loss: 0.4120 - val_accuracy: 0.8126\n",
      "Epoch 42/60\n",
      "1262889/1262889 [==============================] - 84s 66us/step - loss: 0.4164 - accuracy: 0.8087 - val_loss: 0.4120 - val_accuracy: 0.8126\n",
      "\n",
      "Epoch 00042: ReduceLROnPlateau reducing learning rate to 1.6000001778593287e-06.\n",
      "Epoch 43/60\n",
      "1262889/1262889 [==============================] - 85s 67us/step - loss: 0.4166 - accuracy: 0.8086 - val_loss: 0.4119 - val_accuracy: 0.8125\n",
      "Epoch 44/60\n",
      "1262889/1262889 [==============================] - 84s 66us/step - loss: 0.4162 - accuracy: 0.8087 - val_loss: 0.4119 - val_accuracy: 0.8126\n",
      "\n",
      "Epoch 00044: ReduceLROnPlateau reducing learning rate to 1e-06.\n",
      "Epoch 45/60\n",
      "1262889/1262889 [==============================] - 83s 66us/step - loss: 0.4164 - accuracy: 0.8086 - val_loss: 0.4119 - val_accuracy: 0.8125\n",
      "Epoch 46/60\n",
      "1262889/1262889 [==============================] - 85s 67us/step - loss: 0.4162 - accuracy: 0.8087 - val_loss: 0.4119 - val_accuracy: 0.8125\n",
      "Epoch 00046: early stopping\n"
     ]
    }
   ],
   "source": [
    "history=model.fit(train_x,\n",
    "                  train_y,\n",
    "                  epochs=60,\n",
    "                  batch_size=2048,\n",
    "                  validation_data=[val_x,val_y],\n",
    "                  callbacks=[earlystopper,reduce_lr])"
   ]
  },
  {
   "cell_type": "code",
   "execution_count": 213,
   "metadata": {
    "colab": {},
    "colab_type": "code",
    "id": "tqjDhfnX0FRB"
   },
   "outputs": [],
   "source": [
    "model.save(r'/content/drive/My Drive/Hackerearth pride data/Love is love - Hackerearth - Final.h5')\n",
    "#model=models.load_model('/content/drive/My Drive/Hackerearth pride data/Love is love - Hackerearth - Final.h5')"
   ]
  },
  {
   "cell_type": "code",
   "execution_count": null,
   "metadata": {
    "colab": {},
    "colab_type": "code",
    "id": "gYDQF5V3m-wI"
   },
   "outputs": [],
   "source": [
    "#tf.keras.backend.clear_session()"
   ]
  },
  {
   "cell_type": "code",
   "execution_count": 214,
   "metadata": {
    "colab": {
     "base_uri": "https://localhost:8080/",
     "height": 578
    },
    "colab_type": "code",
    "id": "vW2WJ-Kyn0SS",
    "outputId": "bb6d607f-8991-4f77-bcaa-b2bd959364fb"
   },
   "outputs": [
    {
     "data": {
      "text/plain": [
       "<Figure size 432x288 with 0 Axes>"
      ]
     },
     "execution_count": 214,
     "metadata": {
      "tags": []
     },
     "output_type": "execute_result"
    },
    {
     "data": {
      "image/png": "[encoded data removed]",
      "text/plain": [
       "<Figure size 432x288 with 1 Axes>"
      ]
     },
     "metadata": {
      "needs_background": "light",
      "tags": []
     },
     "output_type": "display_data"
    },
    {
     "data": {
      "image/png": "[encoded data removed]",
      "text/plain": [
       "<Figure size 432x288 with 1 Axes>"
      ]
     },
     "metadata": {
      "needs_background": "light",
      "tags": []
     },
     "output_type": "display_data"
    },
    {
     "data": {
      "text/plain": [
       "<Figure size 432x288 with 0 Axes>"
      ]
     },
     "metadata": {
      "tags": []
     },
     "output_type": "display_data"
    }
   ],
   "source": [
    "acc      = history.history[ 'accuracy' ]\n",
    "val_acc  = history.history[ 'val_accuracy' ]\n",
    "loss     = history.history[ 'loss' ]\n",
    "val_loss = history.history['val_loss' ]\n",
    "\n",
    "epochs   = range(len(acc)) # Get number of epochs\n",
    "\n",
    "#------------------------------------------------\n",
    "# Plot training and validation accuracy per epoch\n",
    "#------------------------------------------------\n",
    "plt.plot( epochs, acc , label = 'Training accuracy')\n",
    "plt.plot( epochs, val_acc, label = 'Validation accuracy')\n",
    "plt.title('Training and validation accuracy')\n",
    "plt.legend()\n",
    "plt.figure()\n",
    "\n",
    "#------------------------------------------------\n",
    "# Plot training and validation loss per epoch\n",
    "#------------------------------------------------\n",
    "plt.plot( epochs, loss , label = 'Training loss')\n",
    "plt.plot( epochs, val_loss, label = 'Validation loss')\n",
    "plt.title('Training and validation loss')\n",
    "plt.legend()\n",
    "plt.figure()"
   ]
  },
  {
   "cell_type": "markdown",
   "metadata": {
    "colab_type": "text",
    "id": "IftgKHjQiF5D"
   },
   "source": [
    "## Making predictions for the text extracted through OCR"
   ]
  },
  {
   "cell_type": "code",
   "execution_count": 215,
   "metadata": {
    "colab": {},
    "colab_type": "code",
    "id": "dRfEMI6J0V8R"
   },
   "outputs": [],
   "source": [
    "data_without_random=data[data['Content']!='']"
   ]
  },
  {
   "cell_type": "code",
   "execution_count": 216,
   "metadata": {
    "colab": {
     "base_uri": "https://localhost:8080/",
     "height": 34
    },
    "colab_type": "code",
    "id": "vCgUorfQ1Akr",
    "outputId": "94242d5b-813e-4c37-ef5e-9107fd893845"
   },
   "outputs": [
    {
     "data": {
      "text/plain": [
       "(186, 3)"
      ]
     },
     "execution_count": 216,
     "metadata": {
      "tags": []
     },
     "output_type": "execute_result"
    }
   ],
   "source": [
    "data_without_random.shape"
   ]
  },
  {
   "cell_type": "code",
   "execution_count": 217,
   "metadata": {
    "colab": {
     "base_uri": "https://localhost:8080/",
     "height": 34
    },
    "colab_type": "code",
    "id": "LeQIV1bj1CDr",
    "outputId": "b62b0793-b8a5-453b-effd-b6a5e05918c4"
   },
   "outputs": [
    {
     "data": {
      "text/plain": [
       "(239, 3)"
      ]
     },
     "execution_count": 217,
     "metadata": {
      "tags": []
     },
     "output_type": "execute_result"
    }
   ],
   "source": [
    "data.shape"
   ]
  },
  {
   "cell_type": "code",
   "execution_count": 218,
   "metadata": {
    "colab": {
     "base_uri": "https://localhost:8080/",
     "height": 34
    },
    "colab_type": "code",
    "id": "C1KtxG7y1DZ5",
    "outputId": "410a4be6-be32-4d2a-acde-d5cf81eb6cca"
   },
   "outputs": [
    {
     "name": "stdout",
     "output_type": "stream",
     "text": [
      "(186, 40)\n"
     ]
    }
   ],
   "source": [
    "content = tokenizer.texts_to_sequences(data_without_random['Content'])\n",
    "#add padding\n",
    "content = pad_sequences(content, maxlen=maxlentweet)\n",
    "print(content.shape)"
   ]
  },
  {
   "cell_type": "code",
   "execution_count": 219,
   "metadata": {
    "colab": {},
    "colab_type": "code",
    "id": "rehP3hG33H6x"
   },
   "outputs": [],
   "source": [
    "predictions=model.predict_classes(content)"
   ]
  },
  {
   "cell_type": "code",
   "execution_count": 220,
   "metadata": {
    "colab": {
     "base_uri": "https://localhost:8080/",
     "height": 397
    },
    "colab_type": "code",
    "id": "lW2xp2Od3q7g",
    "outputId": "8f6f57f0-74fa-4fdb-e54b-236fab34d7a8"
   },
   "outputs": [
    {
     "name": "stderr",
     "output_type": "stream",
     "text": [
      "/usr/local/lib/python3.6/dist-packages/ipykernel_launcher.py:1: SettingWithCopyWarning: \n",
      "A value is trying to be set on a copy of a slice from a DataFrame.\n",
      "Try using .loc[row_indexer,col_indexer] = value instead\n",
      "\n",
      "See the caveats in the documentation: https://pandas.pydata.org/pandas-docs/stable/user_guide/indexing.html#returning-a-view-versus-a-copy\n",
      "  \"\"\"Entry point for launching an IPython kernel.\n",
      "/usr/local/lib/python3.6/dist-packages/ipykernel_launcher.py:2: SettingWithCopyWarning: \n",
      "A value is trying to be set on a copy of a slice from a DataFrame.\n",
      "Try using .loc[row_indexer,col_indexer] = value instead\n",
      "\n",
      "See the caveats in the documentation: https://pandas.pydata.org/pandas-docs/stable/user_guide/indexing.html#returning-a-view-versus-a-copy\n",
      "  \n"
     ]
    },
    {
     "data": {
      "text/html": [
       "<div>\n",
       "<style scoped>\n",
       "    .dataframe tbody tr th:only-of-type {\n",
       "        vertical-align: middle;\n",
       "    }\n",
       "\n",
       "    .dataframe tbody tr th {\n",
       "        vertical-align: top;\n",
       "    }\n",
       "\n",
       "    .dataframe thead th {\n",
       "        text-align: right;\n",
       "    }\n",
       "</style>\n",
       "<table border=\"1\" class=\"dataframe\">\n",
       "  <thead>\n",
       "    <tr style=\"text-align: right;\">\n",
       "      <th></th>\n",
       "      <th>Filename</th>\n",
       "      <th>Category</th>\n",
       "      <th>Content</th>\n",
       "    </tr>\n",
       "  </thead>\n",
       "  <tbody>\n",
       "    <tr>\n",
       "      <th>0</th>\n",
       "      <td>Test1001.jpg</td>\n",
       "      <td>Positive</td>\n",
       "      <td>When people ask what I see in you I just smile...</td>\n",
       "    </tr>\n",
       "    <tr>\n",
       "      <th>1</th>\n",
       "      <td>Test1012.jpg</td>\n",
       "      <td>Positive</td>\n",
       "      <td>LovE Is To0 BEAunIL TO gE HlDDl3l IN THE CLOSIs</td>\n",
       "    </tr>\n",
       "    <tr>\n",
       "      <th>2</th>\n",
       "      <td>Test1022.jpg</td>\n",
       "      <td>Positive</td>\n",
       "      <td>LOV  is aeve</td>\n",
       "    </tr>\n",
       "    <tr>\n",
       "      <th>3</th>\n",
       "      <td>Test1071.jpg</td>\n",
       "      <td>Negative</td>\n",
       "      <td>MU em eat ie not living by society s but deep ...</td>\n",
       "    </tr>\n",
       "    <tr>\n",
       "      <th>4</th>\n",
       "      <td>Test1122.jpg</td>\n",
       "      <td>Positive</td>\n",
       "      <td>author of Fair Play How are their Rightful Pla...</td>\n",
       "    </tr>\n",
       "  </tbody>\n",
       "</table>\n",
       "</div>"
      ],
      "text/plain": [
       "       Filename  Category                                            Content\n",
       "0  Test1001.jpg  Positive  When people ask what I see in you I just smile...\n",
       "1  Test1012.jpg  Positive    LovE Is To0 BEAunIL TO gE HlDDl3l IN THE CLOSIs\n",
       "2  Test1022.jpg  Positive                                    LOV  is aeve   \n",
       "3  Test1071.jpg  Negative  MU em eat ie not living by society s but deep ...\n",
       "4  Test1122.jpg  Positive  author of Fair Play How are their Rightful Pla..."
      ]
     },
     "execution_count": 220,
     "metadata": {
      "tags": []
     },
     "output_type": "execute_result"
    }
   ],
   "source": [
    "data_without_random['Category']=predictions\n",
    "data_without_random['Category']=data_without_random['Category'].apply(lambda x:'Negative' if x==0 else 'Positive')\n",
    "data_without_random.head()"
   ]
  },
  {
   "cell_type": "code",
   "execution_count": 221,
   "metadata": {
    "colab": {
     "base_uri": "https://localhost:8080/",
     "height": 67
    },
    "colab_type": "code",
    "id": "KuvwCTio3sgj",
    "outputId": "d22180fa-426e-435f-f0f0-847f56e3b6f1"
   },
   "outputs": [
    {
     "data": {
      "text/plain": [
       "Positive    131\n",
       "Negative     55\n",
       "Name: Category, dtype: int64"
      ]
     },
     "execution_count": 221,
     "metadata": {
      "tags": []
     },
     "output_type": "execute_result"
    }
   ],
   "source": [
    "data_without_random['Category'].value_counts()"
   ]
  },
  {
   "cell_type": "code",
   "execution_count": 222,
   "metadata": {
    "colab": {},
    "colab_type": "code",
    "id": "v7Jk7kew41e-"
   },
   "outputs": [],
   "source": [
    "Category=[]\n",
    "for i in data.index:\n",
    "    if data['Content'][i]=='':\n",
    "        Category.append('Random')\n",
    "    else:\n",
    "        for j in data_without_random.index:\n",
    "            if data['Filename'][i]==data_without_random['Filename'][j]:\n",
    "                Category.append(data_without_random['Category'][j])"
   ]
  },
  {
   "cell_type": "code",
   "execution_count": 223,
   "metadata": {
    "colab": {
     "base_uri": "https://localhost:8080/",
     "height": 195
    },
    "colab_type": "code",
    "id": "dYqukzbV5jPf",
    "outputId": "c10850be-02bf-4fd8-f4b0-c0982fe6a512"
   },
   "outputs": [
    {
     "data": {
      "text/html": [
       "<div>\n",
       "<style scoped>\n",
       "    .dataframe tbody tr th:only-of-type {\n",
       "        vertical-align: middle;\n",
       "    }\n",
       "\n",
       "    .dataframe tbody tr th {\n",
       "        vertical-align: top;\n",
       "    }\n",
       "\n",
       "    .dataframe thead th {\n",
       "        text-align: right;\n",
       "    }\n",
       "</style>\n",
       "<table border=\"1\" class=\"dataframe\">\n",
       "  <thead>\n",
       "    <tr style=\"text-align: right;\">\n",
       "      <th></th>\n",
       "      <th>Filename</th>\n",
       "      <th>Category</th>\n",
       "      <th>Content</th>\n",
       "    </tr>\n",
       "  </thead>\n",
       "  <tbody>\n",
       "    <tr>\n",
       "      <th>0</th>\n",
       "      <td>Test1001.jpg</td>\n",
       "      <td>Positive</td>\n",
       "      <td>When people ask what I see in you I just smile...</td>\n",
       "    </tr>\n",
       "    <tr>\n",
       "      <th>1</th>\n",
       "      <td>Test1012.jpg</td>\n",
       "      <td>Positive</td>\n",
       "      <td>LovE Is To0 BEAunIL TO gE HlDDl3l IN THE CLOSIs</td>\n",
       "    </tr>\n",
       "    <tr>\n",
       "      <th>2</th>\n",
       "      <td>Test1022.jpg</td>\n",
       "      <td>Positive</td>\n",
       "      <td>LOV  is aeve</td>\n",
       "    </tr>\n",
       "    <tr>\n",
       "      <th>3</th>\n",
       "      <td>Test1071.jpg</td>\n",
       "      <td>Negative</td>\n",
       "      <td>MU em eat ie not living by society s but deep ...</td>\n",
       "    </tr>\n",
       "    <tr>\n",
       "      <th>4</th>\n",
       "      <td>Test1122.jpg</td>\n",
       "      <td>Positive</td>\n",
       "      <td>author of Fair Play How are their Rightful Pla...</td>\n",
       "    </tr>\n",
       "  </tbody>\n",
       "</table>\n",
       "</div>"
      ],
      "text/plain": [
       "       Filename  Category                                            Content\n",
       "0  Test1001.jpg  Positive  When people ask what I see in you I just smile...\n",
       "1  Test1012.jpg  Positive    LovE Is To0 BEAunIL TO gE HlDDl3l IN THE CLOSIs\n",
       "2  Test1022.jpg  Positive                                    LOV  is aeve   \n",
       "3  Test1071.jpg  Negative  MU em eat ie not living by society s but deep ...\n",
       "4  Test1122.jpg  Positive  author of Fair Play How are their Rightful Pla..."
      ]
     },
     "execution_count": 223,
     "metadata": {
      "tags": []
     },
     "output_type": "execute_result"
    }
   ],
   "source": [
    "data['Category']=Category\n",
    "data.head()"
   ]
  },
  {
   "cell_type": "code",
   "execution_count": 224,
   "metadata": {
    "colab": {
     "base_uri": "https://localhost:8080/",
     "height": 195
    },
    "colab_type": "code",
    "id": "H9NzoOzX5scT",
    "outputId": "9c5ca29b-6db2-4f34-ec27-7830b3825aee"
   },
   "outputs": [
    {
     "data": {
      "text/html": [
       "<div>\n",
       "<style scoped>\n",
       "    .dataframe tbody tr th:only-of-type {\n",
       "        vertical-align: middle;\n",
       "    }\n",
       "\n",
       "    .dataframe tbody tr th {\n",
       "        vertical-align: top;\n",
       "    }\n",
       "\n",
       "    .dataframe thead th {\n",
       "        text-align: right;\n",
       "    }\n",
       "</style>\n",
       "<table border=\"1\" class=\"dataframe\">\n",
       "  <thead>\n",
       "    <tr style=\"text-align: right;\">\n",
       "      <th></th>\n",
       "      <th>Filename</th>\n",
       "      <th>Category</th>\n",
       "    </tr>\n",
       "  </thead>\n",
       "  <tbody>\n",
       "    <tr>\n",
       "      <th>0</th>\n",
       "      <td>Test1001.jpg</td>\n",
       "      <td>Positive</td>\n",
       "    </tr>\n",
       "    <tr>\n",
       "      <th>1</th>\n",
       "      <td>Test1012.jpg</td>\n",
       "      <td>Positive</td>\n",
       "    </tr>\n",
       "    <tr>\n",
       "      <th>2</th>\n",
       "      <td>Test1022.jpg</td>\n",
       "      <td>Positive</td>\n",
       "    </tr>\n",
       "    <tr>\n",
       "      <th>3</th>\n",
       "      <td>Test1071.jpg</td>\n",
       "      <td>Negative</td>\n",
       "    </tr>\n",
       "    <tr>\n",
       "      <th>4</th>\n",
       "      <td>Test1122.jpg</td>\n",
       "      <td>Positive</td>\n",
       "    </tr>\n",
       "  </tbody>\n",
       "</table>\n",
       "</div>"
      ],
      "text/plain": [
       "       Filename  Category\n",
       "0  Test1001.jpg  Positive\n",
       "1  Test1012.jpg  Positive\n",
       "2  Test1022.jpg  Positive\n",
       "3  Test1071.jpg  Negative\n",
       "4  Test1122.jpg  Positive"
      ]
     },
     "execution_count": 224,
     "metadata": {
      "tags": []
     },
     "output_type": "execute_result"
    }
   ],
   "source": [
    "final_submission=data[['Filename','Category']]\n",
    "final_submission.head()"
   ]
  },
  {
   "cell_type": "code",
   "execution_count": 225,
   "metadata": {
    "colab": {
     "base_uri": "https://localhost:8080/",
     "height": 84
    },
    "colab_type": "code",
    "id": "f8ewzg8X_ck6",
    "outputId": "11b3af68-773a-43b3-f705-ab03704ef680"
   },
   "outputs": [
    {
     "data": {
      "text/plain": [
       "Positive    131\n",
       "Negative     55\n",
       "Random       53\n",
       "Name: Category, dtype: int64"
      ]
     },
     "execution_count": 225,
     "metadata": {
      "tags": []
     },
     "output_type": "execute_result"
    }
   ],
   "source": [
    "final_submission['Category'].value_counts()"
   ]
  },
  {
   "cell_type": "code",
   "execution_count": 226,
   "metadata": {
    "colab": {},
    "colab_type": "code",
    "id": "_1gLJdxe52n7"
   },
   "outputs": [],
   "source": [
    "final_submission.to_csv(r'/content/drive/My Drive/Hackerearth pride data/final_submission.csv',index=False)"
   ]
  }
 ],
 "metadata": {
  "accelerator": "GPU",
  "colab": {
   "collapsed_sections": [],
   "name": "Hackerearth - Love is love - OCR & Sentiment classification.ipynb",
   "provenance": []
  },
  "kernelspec": {
   "display_name": "Python 3",
   "language": "python",
   "name": "python3"
  },
  "language_info": {
   "codemirror_mode": {
    "name": "ipython",
    "version": 3
   },
   "file_extension": ".py",
   "mimetype": "text/x-python",
   "name": "python",
   "nbconvert_exporter": "python",
   "pygments_lexer": "ipython3",
   "version": "3.7.3"
  }
 },
 "nbformat": 4,
 "nbformat_minor": 1
}
