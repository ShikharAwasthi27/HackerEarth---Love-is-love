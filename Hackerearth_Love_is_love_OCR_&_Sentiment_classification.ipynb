{
 "cells": [
  {
   "cell_type": "markdown",
   "metadata": {
    "colab_type": "text",
    "id": "lkaTRb5xgaz2"
   },
   "source": [
    "## Imports and reading the data"
   ]
  },
  {
   "cell_type": "code",
   "execution_count": 1,
   "metadata": {
    "colab": {
     "base_uri": "https://localhost:8080/",
     "height": 874
    },
    "colab_type": "code",
    "id": "lAIYyLvUYURw",
    "outputId": "b6b6e779-8e3d-4a28-f083-bf5b24c8a4ba"
   },
   "outputs": [
    {
     "name": "stdout",
     "output_type": "stream",
     "text": [
      "Reading package lists... Done\n",
      "Building dependency tree       \n",
      "Reading state information... Done\n",
      "The following package was automatically installed and is no longer required:\n",
      "  libnvidia-common-440\n",
      "Use 'sudo apt autoremove' to remove it.\n",
      "The following additional packages will be installed:\n",
      "  tesseract-ocr-eng tesseract-ocr-osd\n",
      "The following NEW packages will be installed:\n",
      "  tesseract-ocr tesseract-ocr-eng tesseract-ocr-osd\n",
      "0 upgraded, 3 newly installed, 0 to remove and 35 not upgraded.\n",
      "Need to get 4,795 kB of archives.\n",
      "After this operation, 15.8 MB of additional disk space will be used.\n",
      "Get:1 http://archive.ubuntu.com/ubuntu bionic/universe amd64 tesseract-ocr-eng all 4.00~git24-0e00fe6-1.2 [1,588 kB]\n",
      "Get:2 http://archive.ubuntu.com/ubuntu bionic/universe amd64 tesseract-ocr-osd all 4.00~git24-0e00fe6-1.2 [2,989 kB]\n",
      "Get:3 http://archive.ubuntu.com/ubuntu bionic/universe amd64 tesseract-ocr amd64 4.00~git2288-10f4998a-2 [218 kB]\n",
      "Fetched 4,795 kB in 1s (4,184 kB/s)\n",
      "debconf: unable to initialize frontend: Dialog\n",
      "debconf: (No usable dialog-like program is installed, so the dialog based frontend cannot be used. at /usr/share/perl5/Debconf/FrontEnd/Dialog.pm line 76, <> line 3.)\n",
      "debconf: falling back to frontend: Readline\n",
      "debconf: unable to initialize frontend: Readline\n",
      "debconf: (This frontend requires a controlling tty.)\n",
      "debconf: falling back to frontend: Teletype\n",
      "dpkg-preconfigure: unable to re-open stdin: \n",
      "Selecting previously unselected package tesseract-ocr-eng.\n",
      "(Reading database ... 144465 files and directories currently installed.)\n",
      "Preparing to unpack .../tesseract-ocr-eng_4.00~git24-0e00fe6-1.2_all.deb ...\n",
      "Unpacking tesseract-ocr-eng (4.00~git24-0e00fe6-1.2) ...\n",
      "Selecting previously unselected package tesseract-ocr-osd.\n",
      "Preparing to unpack .../tesseract-ocr-osd_4.00~git24-0e00fe6-1.2_all.deb ...\n",
      "Unpacking tesseract-ocr-osd (4.00~git24-0e00fe6-1.2) ...\n",
      "Selecting previously unselected package tesseract-ocr.\n",
      "Preparing to unpack .../tesseract-ocr_4.00~git2288-10f4998a-2_amd64.deb ...\n",
      "Unpacking tesseract-ocr (4.00~git2288-10f4998a-2) ...\n",
      "Setting up tesseract-ocr-osd (4.00~git24-0e00fe6-1.2) ...\n",
      "Setting up tesseract-ocr-eng (4.00~git24-0e00fe6-1.2) ...\n",
      "Setting up tesseract-ocr (4.00~git2288-10f4998a-2) ...\n",
      "Processing triggers for man-db (2.8.3-2ubuntu0.1) ...\n",
      "Collecting pytesseract\n",
      "  Downloading https://files.pythonhosted.org/packages/1d/d8/521db389ff0aae32035bfda6ed39cb2c2e28521c47015f6431f07460c50a/pytesseract-0.3.4.tar.gz\n",
      "Requirement already satisfied: Pillow in /usr/local/lib/python3.6/dist-packages (from pytesseract) (7.0.0)\n",
      "Building wheels for collected packages: pytesseract\n",
      "  Building wheel for pytesseract (setup.py) ... \u001b[?25l\u001b[?25hdone\n",
      "  Created wheel for pytesseract: filename=pytesseract-0.3.4-py2.py3-none-any.whl size=13431 sha256=6b848b20add2329a506c8cfebd6e5606f183020e4aa1acfc14b4301b58475d16\n",
      "  Stored in directory: /root/.cache/pip/wheels/63/2a/a0/7596d2e0a73cf0aeffd6f6170862c4e73f3763b7827e48691a\n",
      "Successfully built pytesseract\n",
      "Installing collected packages: pytesseract\n",
      "Successfully installed pytesseract-0.3.4\n",
      "[nltk_data] Downloading package words to /root/nltk_data...\n",
      "[nltk_data]   Unzipping corpora/words.zip.\n"
     ]
    },
    {
     "name": "stderr",
     "output_type": "stream",
     "text": [
      "Using TensorFlow backend.\n"
     ]
    }
   ],
   "source": [
    "!sudo apt install tesseract-ocr\n",
    "!pip install pytesseract\n",
    "import pytesseract\n",
    "import cv2\n",
    "import os\n",
    "import numpy as np\n",
    "import pandas as pd\n",
    "import re, nltk\n",
    "nltk.download('words')\n",
    "from nltk.tokenize import RegexpTokenizer\n",
    "import tensorflow as tf\n",
    "from keras import models\n",
    "from keras import layers\n",
    "from keras import optimizers\n",
    "from keras.preprocessing.text import Tokenizer\n",
    "from keras.preprocessing.sequence import pad_sequences\n",
    "from keras.callbacks import ReduceLROnPlateau,EarlyStopping\n",
    "import matplotlib.pyplot as plt"
   ]
  },
  {
   "cell_type": "code",
   "execution_count": 2,
   "metadata": {
    "colab": {},
    "colab_type": "code",
    "id": "N9ulnDFNZGbl"
   },
   "outputs": [],
   "source": [
    "base_dir=r'/content/drive/My Drive/Hackerearth pride data'\n",
    "test_images=os.path.join(base_dir,'Dataset')\n",
    "test_csv=os.path.join(base_dir,'Test.csv')"
   ]
  },
  {
   "cell_type": "code",
   "execution_count": 3,
   "metadata": {
    "colab": {
     "base_uri": "https://localhost:8080/",
     "height": 195
    },
    "colab_type": "code",
    "id": "k2oVYl3_Zv7F",
    "outputId": "8227307b-e679-4ac9-d7e8-f063938f1774"
   },
   "outputs": [
    {
     "data": {
      "text/html": [
       "<div>\n",
       "<style scoped>\n",
       "    .dataframe tbody tr th:only-of-type {\n",
       "        vertical-align: middle;\n",
       "    }\n",
       "\n",
       "    .dataframe tbody tr th {\n",
       "        vertical-align: top;\n",
       "    }\n",
       "\n",
       "    .dataframe thead th {\n",
       "        text-align: right;\n",
       "    }\n",
       "</style>\n",
       "<table border=\"1\" class=\"dataframe\">\n",
       "  <thead>\n",
       "    <tr style=\"text-align: right;\">\n",
       "      <th></th>\n",
       "      <th>Filename</th>\n",
       "      <th>Category</th>\n",
       "    </tr>\n",
       "  </thead>\n",
       "  <tbody>\n",
       "    <tr>\n",
       "      <th>0</th>\n",
       "      <td>Test1001.jpg</td>\n",
       "      <td>NaN</td>\n",
       "    </tr>\n",
       "    <tr>\n",
       "      <th>1</th>\n",
       "      <td>Test1012.jpg</td>\n",
       "      <td>NaN</td>\n",
       "    </tr>\n",
       "    <tr>\n",
       "      <th>2</th>\n",
       "      <td>Test1022.jpg</td>\n",
       "      <td>NaN</td>\n",
       "    </tr>\n",
       "    <tr>\n",
       "      <th>3</th>\n",
       "      <td>Test1071.jpg</td>\n",
       "      <td>NaN</td>\n",
       "    </tr>\n",
       "    <tr>\n",
       "      <th>4</th>\n",
       "      <td>Test1122.jpg</td>\n",
       "      <td>NaN</td>\n",
       "    </tr>\n",
       "  </tbody>\n",
       "</table>\n",
       "</div>"
      ],
      "text/plain": [
       "       Filename  Category\n",
       "0  Test1001.jpg       NaN\n",
       "1  Test1012.jpg       NaN\n",
       "2  Test1022.jpg       NaN\n",
       "3  Test1071.jpg       NaN\n",
       "4  Test1122.jpg       NaN"
      ]
     },
     "execution_count": 3,
     "metadata": {
      "tags": []
     },
     "output_type": "execute_result"
    }
   ],
   "source": [
    "data=pd.read_csv(test_csv)\n",
    "data.head()"
   ]
  },
  {
   "cell_type": "code",
   "execution_count": 4,
   "metadata": {
    "colab": {
     "base_uri": "https://localhost:8080/",
     "height": 34
    },
    "colab_type": "code",
    "id": "t1Bg6H3lZ6Mw",
    "outputId": "f239a599-8998-43c6-f04e-3c321a186052"
   },
   "outputs": [
    {
     "data": {
      "text/plain": [
       "(239, 2)"
      ]
     },
     "execution_count": 4,
     "metadata": {
      "tags": []
     },
     "output_type": "execute_result"
    }
   ],
   "source": [
    "data.shape"
   ]
  },
  {
   "cell_type": "code",
   "execution_count": 5,
   "metadata": {
    "colab": {},
    "colab_type": "code",
    "id": "-AtT9ZGWahhu"
   },
   "outputs": [],
   "source": [
    "path=os.path.join(test_images,data['Filename'][0])"
   ]
  },
  {
   "cell_type": "code",
   "execution_count": 6,
   "metadata": {
    "colab": {
     "base_uri": "https://localhost:8080/",
     "height": 35
    },
    "colab_type": "code",
    "id": "zq_-fJbfbHfr",
    "outputId": "ddb5ed24-c60b-4caf-f864-f63eb17410cf"
   },
   "outputs": [
    {
     "data": {
      "application/vnd.google.colaboratory.intrinsic": {
       "type": "string"
      },
      "text/plain": [
       "\"When people ask\\nwhat I see in you,\\nI just smile and\\nlook away because\\nI'm afraid if they knew,\\nthey'd fall in love\\nwith you too.\""
      ]
     },
     "execution_count": 6,
     "metadata": {
      "tags": []
     },
     "output_type": "execute_result"
    }
   ],
   "source": [
    "img = cv2.imread(path)\n",
    "\n",
    "# Adding custom options\n",
    "custom_config = r'--oem 3 --psm 6'\n",
    "pytesseract.image_to_string(img, config=custom_config)"
   ]
  },
  {
   "cell_type": "code",
   "execution_count": 7,
   "metadata": {
    "colab": {
     "base_uri": "https://localhost:8080/",
     "height": 34
    },
    "colab_type": "code",
    "id": "seu_HpeucsxL",
    "outputId": "49e3c58f-d94b-4ea3-8f10-da1d3e88ac1c"
   },
   "outputs": [
    {
     "data": {
      "text/plain": [
       "(197, 256, 3)"
      ]
     },
     "execution_count": 7,
     "metadata": {
      "tags": []
     },
     "output_type": "execute_result"
    }
   ],
   "source": [
    "img.shape"
   ]
  },
  {
   "cell_type": "markdown",
   "metadata": {
    "colab_type": "text",
    "id": "H3CJ6HbPicHe"
   },
   "source": [
    "## Functions for image preprocessing"
   ]
  },
  {
   "cell_type": "code",
   "execution_count": 8,
   "metadata": {
    "colab": {},
    "colab_type": "code",
    "id": "yC1a-A_Plb1O"
   },
   "outputs": [],
   "source": [
    "def deskew(image):\n",
    "    #gray = cv2.cvtColor(image, cv2.COLOR_BGR2GRAY)\n",
    "    gray = cv2.bitwise_not(image)\n",
    "    thresh = cv2.threshold(gray, 0, 255,\n",
    "        cv2.THRESH_BINARY | cv2.THRESH_OTSU)[1]\n",
    "    coords = np.column_stack(np.where(thresh > 0))\n",
    "    angle = cv2.minAreaRect(coords)[-1]\n",
    "    if angle < -45:\n",
    "        angle = -(90 + angle)\n",
    "    else:\n",
    "        angle = -angle\n",
    "    (h, w) = image.shape[:2]\n",
    "    center = (w // 2, h // 2)\n",
    "    M = cv2.getRotationMatrix2D(center, angle, 1.0)\n",
    "    rotated = cv2.warpAffine(image, M, (w, h),\n",
    "        flags=cv2.INTER_CUBIC, borderMode=cv2.BORDER_REPLICATE)    \n",
    "    return rotated"
   ]
  },
  {
   "cell_type": "code",
   "execution_count": 9,
   "metadata": {
    "colab": {},
    "colab_type": "code",
    "id": "uMM_QTS_KT2b"
   },
   "outputs": [],
   "source": [
    "def adjust_gamma(image, gamma=1.0):\n",
    "    # build a lookup table mapping the pixel values [0, 255] to\n",
    "    # their adjusted gamma values\n",
    "    invGamma = 1.0 / gamma\n",
    "    table = np.array([((i / 255.0) ** invGamma) * 255\n",
    "        for i in np.arange(0, 256)]).astype(\"uint8\")\n",
    "    # apply gamma correction using the lookup table\n",
    "    return cv2.LUT(image, table)"
   ]
  },
  {
   "cell_type": "code",
   "execution_count": 10,
   "metadata": {
    "colab": {},
    "colab_type": "code",
    "id": "Xn5AXLwFdH0A"
   },
   "outputs": [],
   "source": [
    "def image_preprocessing_for_ocr(img):\n",
    "    kernel = np.ones((1,1),np.uint8)\n",
    "\n",
    "    # Resizing\n",
    "    img = cv2.resize(img, None, fx=1.2, fy=1.2, interpolation=cv2.INTER_CUBIC)\n",
    "\n",
    "    # get grayscale image\n",
    "    img = cv2.cvtColor(img, cv2.COLOR_BGR2GRAY)\n",
    "  \n",
    "    # dilation\n",
    "    img = cv2.dilate(img, kernel, iterations = 1)\n",
    "\n",
    "    # erosion\n",
    "    img = cv2.erode(img, kernel, iterations = 1)\n",
    "\n",
    "    #   noise removal using median blur\n",
    "    cv2.threshold(cv2.medianBlur(img, 3), 0, 255, cv2.THRESH_BINARY + cv2.THRESH_OTSU)[1]\n",
    "\n",
    "    #gamma correction\n",
    "    #img = adjust_gamma(img,0.8)\n",
    "\n",
    "    #skew correction\n",
    "    #img = deskew(img)\n",
    "\n",
    "    return img"
   ]
  },
  {
   "cell_type": "markdown",
   "metadata": {
    "colab_type": "text",
    "id": "_cBANOpqdyF6"
   },
   "source": [
    "## OCR (without any image preprocessing)"
   ]
  },
  {
   "cell_type": "code",
   "execution_count": 11,
   "metadata": {
    "colab": {},
    "colab_type": "code",
    "id": "8jzCNkAif3Yf"
   },
   "outputs": [],
   "source": [
    "text_from_images=[]\n",
    "# Adding custom options\n",
    "#custom_config = r'--oem 3 --psm 6'\n",
    "#custom_config = r'--psm 7'\n",
    "for i in data.index:\n",
    "    path = os.path.join(test_images,data['Filename'][i])\n",
    "    # Reading the image\n",
    "    img = cv2.imread(path)\n",
    "\n",
    "    # Preprocessing the image\n",
    "    #img = image_preprocessing_for_ocr(img)\n",
    "\n",
    "    # Extracting the text\n",
    "    #text = pytesseract.image_to_string(img, config= custom_config,lang='eng')\n",
    "    text = pytesseract.image_to_string(img, lang='eng')\n",
    "\n",
    "    # Appending to the list\n",
    "    text_from_images.append(text)"
   ]
  },
  {
   "cell_type": "code",
   "execution_count": 12,
   "metadata": {
    "colab": {
     "base_uri": "https://localhost:8080/",
     "height": 195
    },
    "colab_type": "code",
    "id": "ZoIBLkk2-Zr3",
    "outputId": "5cf936dd-005f-4d56-9c9e-3cc8d27cf52c"
   },
   "outputs": [
    {
     "data": {
      "text/html": [
       "<div>\n",
       "<style scoped>\n",
       "    .dataframe tbody tr th:only-of-type {\n",
       "        vertical-align: middle;\n",
       "    }\n",
       "\n",
       "    .dataframe tbody tr th {\n",
       "        vertical-align: top;\n",
       "    }\n",
       "\n",
       "    .dataframe thead th {\n",
       "        text-align: right;\n",
       "    }\n",
       "</style>\n",
       "<table border=\"1\" class=\"dataframe\">\n",
       "  <thead>\n",
       "    <tr style=\"text-align: right;\">\n",
       "      <th></th>\n",
       "      <th>Filename</th>\n",
       "      <th>Category</th>\n",
       "      <th>Content</th>\n",
       "    </tr>\n",
       "  </thead>\n",
       "  <tbody>\n",
       "    <tr>\n",
       "      <th>0</th>\n",
       "      <td>Test1001.jpg</td>\n",
       "      <td>NaN</td>\n",
       "      <td>When people ask\\nwhat I see in you,\\nI just sm...</td>\n",
       "    </tr>\n",
       "    <tr>\n",
       "      <th>1</th>\n",
       "      <td>Test1012.jpg</td>\n",
       "      <td>NaN</td>\n",
       "      <td>LOVE\\nocd)\\naie al\\nRao</td>\n",
       "    </tr>\n",
       "    <tr>\n",
       "      <th>2</th>\n",
       "      <td>Test1022.jpg</td>\n",
       "      <td>NaN</td>\n",
       "      <td>LOVE\\n®</td>\n",
       "    </tr>\n",
       "    <tr>\n",
       "      <th>3</th>\n",
       "      <td>Test1071.jpg</td>\n",
       "      <td>NaN</td>\n",
       "      <td>eee MU WALLA OL\\n\\nem eat nimeel ie\\n\\nnot liv...</td>\n",
       "    </tr>\n",
       "    <tr>\n",
       "      <th>4</th>\n",
       "      <td>Test1122.jpg</td>\n",
       "      <td>NaN</td>\n",
       "      <td>‘Zeigler, author of \"Fair Play: How LGBT Athle...</td>\n",
       "    </tr>\n",
       "  </tbody>\n",
       "</table>\n",
       "</div>"
      ],
      "text/plain": [
       "       Filename  Category                                            Content\n",
       "0  Test1001.jpg       NaN  When people ask\\nwhat I see in you,\\nI just sm...\n",
       "1  Test1012.jpg       NaN                            LOVE\\nocd)\\naie al\\nRao\n",
       "2  Test1022.jpg       NaN                                            LOVE\\n®\n",
       "3  Test1071.jpg       NaN  eee MU WALLA OL\\n\\nem eat nimeel ie\\n\\nnot liv...\n",
       "4  Test1122.jpg       NaN  ‘Zeigler, author of \"Fair Play: How LGBT Athle..."
      ]
     },
     "execution_count": 12,
     "metadata": {
      "tags": []
     },
     "output_type": "execute_result"
    }
   ],
   "source": [
    "data['Content']=text_from_images\n",
    "data.head()"
   ]
  },
  {
   "cell_type": "code",
   "execution_count": 13,
   "metadata": {
    "colab": {
     "base_uri": "https://localhost:8080/",
     "height": 34
    },
    "colab_type": "code",
    "id": "QWr66SSUNwzm",
    "outputId": "2349c215-10ad-406b-b84a-ddda12abd992"
   },
   "outputs": [
    {
     "data": {
      "text/plain": [
       "109"
      ]
     },
     "execution_count": 13,
     "metadata": {
      "tags": []
     },
     "output_type": "execute_result"
    }
   ],
   "source": [
    "len(data[data['Content']==''])"
   ]
  },
  {
   "cell_type": "markdown",
   "metadata": {
    "colab_type": "text",
    "id": "Lx5_qYb_kWE7"
   },
   "source": [
    "- Number of images with no content"
   ]
  },
  {
   "cell_type": "code",
   "execution_count": 14,
   "metadata": {
    "colab": {},
    "colab_type": "code",
    "id": "lMUtt8AaINts"
   },
   "outputs": [],
   "source": [
    "data['Content']=data['Content'].apply(lambda x:re.sub(r'\\n',' ',x))\n",
    "website=r\"(?i)\\b((?:https?://|www\\d{0,3}[.]|[a-z0-9.\\-]+[.][a-z]{2,4}/)(?:[^\\s()<>]+|\\(([^\\s()<>]+|(\\([^\\s()<>]+\\)))*\\))+(?:\\(([^\\s()<>]+|(\\([^\\s()<>]+\\)))*\\)|[^\\s`!()\\[\\]{};:'\\\".,<>?«»“”‘’]))\"\n",
    "data['Content']=data['Content'].apply(lambda x:re.sub(website,'',x))\n",
    "words = set(nltk.corpus.words.words())\n",
    "data['Content']=data['Content'].apply(lambda x:\" \".join(w for w in nltk.wordpunct_tokenize(x) if w.lower() in words))"
   ]
  },
  {
   "cell_type": "markdown",
   "metadata": {
    "colab_type": "text",
    "id": "6wy_Egi8gzy_"
   },
   "source": [
    "- Cleaning the text to remove unwanted data."
   ]
  },
  {
   "cell_type": "code",
   "execution_count": 15,
   "metadata": {
    "colab": {
     "base_uri": "https://localhost:8080/",
     "height": 195
    },
    "colab_type": "code",
    "id": "o7arhI-MIwCx",
    "outputId": "9300f88f-6f37-4cbd-f0c3-90115406ac85"
   },
   "outputs": [
    {
     "data": {
      "text/html": [
       "<div>\n",
       "<style scoped>\n",
       "    .dataframe tbody tr th:only-of-type {\n",
       "        vertical-align: middle;\n",
       "    }\n",
       "\n",
       "    .dataframe tbody tr th {\n",
       "        vertical-align: top;\n",
       "    }\n",
       "\n",
       "    .dataframe thead th {\n",
       "        text-align: right;\n",
       "    }\n",
       "</style>\n",
       "<table border=\"1\" class=\"dataframe\">\n",
       "  <thead>\n",
       "    <tr style=\"text-align: right;\">\n",
       "      <th></th>\n",
       "      <th>Filename</th>\n",
       "      <th>Category</th>\n",
       "      <th>Content</th>\n",
       "    </tr>\n",
       "  </thead>\n",
       "  <tbody>\n",
       "    <tr>\n",
       "      <th>0</th>\n",
       "      <td>Test1001.jpg</td>\n",
       "      <td>NaN</td>\n",
       "      <td>When people ask what I see in you I just smile...</td>\n",
       "    </tr>\n",
       "    <tr>\n",
       "      <th>1</th>\n",
       "      <td>Test1012.jpg</td>\n",
       "      <td>NaN</td>\n",
       "      <td>LOVE al</td>\n",
       "    </tr>\n",
       "    <tr>\n",
       "      <th>2</th>\n",
       "      <td>Test1022.jpg</td>\n",
       "      <td>NaN</td>\n",
       "      <td>LOVE</td>\n",
       "    </tr>\n",
       "    <tr>\n",
       "      <th>3</th>\n",
       "      <td>Test1071.jpg</td>\n",
       "      <td>NaN</td>\n",
       "      <td>MU em eat ie not living by society s but deep ...</td>\n",
       "    </tr>\n",
       "    <tr>\n",
       "      <th>4</th>\n",
       "      <td>Test1122.jpg</td>\n",
       "      <td>NaN</td>\n",
       "      <td>author of Fair Play How are their Rightful Pla...</td>\n",
       "    </tr>\n",
       "  </tbody>\n",
       "</table>\n",
       "</div>"
      ],
      "text/plain": [
       "       Filename  Category                                            Content\n",
       "0  Test1001.jpg       NaN  When people ask what I see in you I just smile...\n",
       "1  Test1012.jpg       NaN                                            LOVE al\n",
       "2  Test1022.jpg       NaN                                               LOVE\n",
       "3  Test1071.jpg       NaN  MU em eat ie not living by society s but deep ...\n",
       "4  Test1122.jpg       NaN  author of Fair Play How are their Rightful Pla..."
      ]
     },
     "execution_count": 15,
     "metadata": {
      "tags": []
     },
     "output_type": "execute_result"
    }
   ],
   "source": [
    "data.head()"
   ]
  },
  {
   "cell_type": "code",
   "execution_count": 16,
   "metadata": {
    "colab": {
     "base_uri": "https://localhost:8080/",
     "height": 195
    },
    "colab_type": "code",
    "id": "nWSNAPcfIx9s",
    "outputId": "f997b4b0-71a3-4261-80f6-94602daa3616"
   },
   "outputs": [
    {
     "data": {
      "text/html": [
       "<div>\n",
       "<style scoped>\n",
       "    .dataframe tbody tr th:only-of-type {\n",
       "        vertical-align: middle;\n",
       "    }\n",
       "\n",
       "    .dataframe tbody tr th {\n",
       "        vertical-align: top;\n",
       "    }\n",
       "\n",
       "    .dataframe thead th {\n",
       "        text-align: right;\n",
       "    }\n",
       "</style>\n",
       "<table border=\"1\" class=\"dataframe\">\n",
       "  <thead>\n",
       "    <tr style=\"text-align: right;\">\n",
       "      <th></th>\n",
       "      <th>Filename</th>\n",
       "      <th>Category</th>\n",
       "      <th>Content</th>\n",
       "    </tr>\n",
       "  </thead>\n",
       "  <tbody>\n",
       "    <tr>\n",
       "      <th>234</th>\n",
       "      <td>Test243.jpg</td>\n",
       "      <td>NaN</td>\n",
       "      <td>FREEDOM mo Middle</td>\n",
       "    </tr>\n",
       "    <tr>\n",
       "      <th>235</th>\n",
       "      <td>Test244.jpg</td>\n",
       "      <td>NaN</td>\n",
       "      <td></td>\n",
       "    </tr>\n",
       "    <tr>\n",
       "      <th>236</th>\n",
       "      <td>Test245.jpg</td>\n",
       "      <td>NaN</td>\n",
       "      <td>Anti Bullying that have bullying of on the bas...</td>\n",
       "    </tr>\n",
       "    <tr>\n",
       "      <th>237</th>\n",
       "      <td>Test249.jpg</td>\n",
       "      <td>NaN</td>\n",
       "      <td>IN</td>\n",
       "    </tr>\n",
       "    <tr>\n",
       "      <th>238</th>\n",
       "      <td>Test250.jpg</td>\n",
       "      <td>NaN</td>\n",
       "      <td></td>\n",
       "    </tr>\n",
       "  </tbody>\n",
       "</table>\n",
       "</div>"
      ],
      "text/plain": [
       "        Filename  Category                                            Content\n",
       "234  Test243.jpg       NaN                                  FREEDOM mo Middle\n",
       "235  Test244.jpg       NaN                                                   \n",
       "236  Test245.jpg       NaN  Anti Bullying that have bullying of on the bas...\n",
       "237  Test249.jpg       NaN                                                 IN\n",
       "238  Test250.jpg       NaN                                                   "
      ]
     },
     "execution_count": 16,
     "metadata": {
      "tags": []
     },
     "output_type": "execute_result"
    }
   ],
   "source": [
    "data.tail()"
   ]
  },
  {
   "cell_type": "markdown",
   "metadata": {
    "colab_type": "text",
    "id": "5_WU6gVag_PU"
   },
   "source": [
    "## Training a model on Twitter sentiment classification data"
   ]
  },
  {
   "cell_type": "code",
   "execution_count": 37,
   "metadata": {
    "colab": {
     "base_uri": "https://localhost:8080/",
     "height": 195
    },
    "colab_type": "code",
    "id": "FyWSZ7QfWByT",
    "outputId": "009345ce-0808-4885-f61a-10115f2e9ae1"
   },
   "outputs": [
    {
     "data": {
      "text/html": [
       "<div>\n",
       "<style scoped>\n",
       "    .dataframe tbody tr th:only-of-type {\n",
       "        vertical-align: middle;\n",
       "    }\n",
       "\n",
       "    .dataframe tbody tr th {\n",
       "        vertical-align: top;\n",
       "    }\n",
       "\n",
       "    .dataframe thead th {\n",
       "        text-align: right;\n",
       "    }\n",
       "</style>\n",
       "<table border=\"1\" class=\"dataframe\">\n",
       "  <thead>\n",
       "    <tr style=\"text-align: right;\">\n",
       "      <th></th>\n",
       "      <th>ItemID</th>\n",
       "      <th>Sentiment</th>\n",
       "      <th>SentimentSource</th>\n",
       "      <th>SentimentText</th>\n",
       "    </tr>\n",
       "  </thead>\n",
       "  <tbody>\n",
       "    <tr>\n",
       "      <th>0</th>\n",
       "      <td>1</td>\n",
       "      <td>0</td>\n",
       "      <td>Sentiment140</td>\n",
       "      <td>is so sad for my APL frie...</td>\n",
       "    </tr>\n",
       "    <tr>\n",
       "      <th>1</th>\n",
       "      <td>2</td>\n",
       "      <td>0</td>\n",
       "      <td>Sentiment140</td>\n",
       "      <td>I missed the New Moon trail...</td>\n",
       "    </tr>\n",
       "    <tr>\n",
       "      <th>2</th>\n",
       "      <td>3</td>\n",
       "      <td>1</td>\n",
       "      <td>Sentiment140</td>\n",
       "      <td>omg its already 7:30 :O</td>\n",
       "    </tr>\n",
       "    <tr>\n",
       "      <th>3</th>\n",
       "      <td>4</td>\n",
       "      <td>0</td>\n",
       "      <td>Sentiment140</td>\n",
       "      <td>.. Omgaga. Im sooo  im gunna CRy. I'...</td>\n",
       "    </tr>\n",
       "    <tr>\n",
       "      <th>4</th>\n",
       "      <td>5</td>\n",
       "      <td>0</td>\n",
       "      <td>Sentiment140</td>\n",
       "      <td>i think mi bf is cheating on me!!!   ...</td>\n",
       "    </tr>\n",
       "  </tbody>\n",
       "</table>\n",
       "</div>"
      ],
      "text/plain": [
       "   ItemID  ...                                      SentimentText\n",
       "0       1  ...                       is so sad for my APL frie...\n",
       "1       2  ...                     I missed the New Moon trail...\n",
       "2       3  ...                            omg its already 7:30 :O\n",
       "3       4  ...            .. Omgaga. Im sooo  im gunna CRy. I'...\n",
       "4       5  ...           i think mi bf is cheating on me!!!   ...\n",
       "\n",
       "[5 rows x 4 columns]"
      ]
     },
     "execution_count": 37,
     "metadata": {
      "tags": []
     },
     "output_type": "execute_result"
    }
   ],
   "source": [
    "train=pd.read_csv(r'/content/drive/My Drive/Sentiment Analysis Dataset.csv', skiprows=[8835, 535881])\n",
    "#train=train.iloc[:600000,:]\n",
    "train.head()"
   ]
  },
  {
   "cell_type": "code",
   "execution_count": 38,
   "metadata": {
    "colab": {
     "base_uri": "https://localhost:8080/",
     "height": 34
    },
    "colab_type": "code",
    "id": "kEbFVtHaA8tp",
    "outputId": "2e3ed631-0d6e-450c-b74a-ec253417b8b9"
   },
   "outputs": [
    {
     "data": {
      "text/plain": [
       "(1578612, 4)"
      ]
     },
     "execution_count": 38,
     "metadata": {
      "tags": []
     },
     "output_type": "execute_result"
    }
   ],
   "source": [
    "train.shape"
   ]
  },
  {
   "cell_type": "code",
   "execution_count": 39,
   "metadata": {
    "colab": {},
    "colab_type": "code",
    "id": "cC7QWmr6a3Ye"
   },
   "outputs": [],
   "source": [
    "tweets = train['SentimentText']\n",
    "labels = train['Sentiment']"
   ]
  },
  {
   "cell_type": "code",
   "execution_count": 40,
   "metadata": {
    "colab": {
     "base_uri": "https://localhost:8080/",
     "height": 313
    },
    "colab_type": "code",
    "id": "RYcokuchbYXR",
    "outputId": "653cc647-d4a1-4395-cbc2-403641919da3"
   },
   "outputs": [
    {
     "name": "stdout",
     "output_type": "stream",
     "text": [
      "1    790177\n",
      "0    788435\n",
      "Name: Sentiment, dtype: int64\n"
     ]
    },
    {
     "data": {
      "image/png": "[encoded data removed]",
      "text/plain": [
       "<Figure size 432x288 with 1 Axes>"
      ]
     },
     "metadata": {
      "needs_background": "light",
      "tags": []
     },
     "output_type": "display_data"
    }
   ],
   "source": [
    "labels_count = labels.value_counts()\n",
    "labels_count.plot(kind=\"bar\")\n",
    "print(labels.value_counts())"
   ]
  },
  {
   "cell_type": "code",
   "execution_count": 41,
   "metadata": {
    "colab": {},
    "colab_type": "code",
    "id": "48t6xqC5bc-X"
   },
   "outputs": [],
   "source": [
    "tkr = RegexpTokenizer('[a-zA-Z@]+')\n",
    "tweets_split = []\n",
    "for i, line in enumerate(tweets):\n",
    "    #print(line)\n",
    "    tweet = str(line).lower().split()\n",
    "    tweet = tkr.tokenize(str(tweet))\n",
    "    tweets_split.append(tweet)"
   ]
  },
  {
   "cell_type": "markdown",
   "metadata": {
    "colab_type": "text",
    "id": "pum-bl2qhLvb"
   },
   "source": [
    "### Downloading the Glove(Global vectors for word representation) file for creating the embedding matrix"
   ]
  },
  {
   "cell_type": "code",
   "execution_count": 42,
   "metadata": {
    "colab": {
     "base_uri": "https://localhost:8080/",
     "height": 353
    },
    "colab_type": "code",
    "id": "foGqnpujeHMm",
    "outputId": "c46d3958-d290-4bf1-e73c-5a9642e519ec"
   },
   "outputs": [
    {
     "name": "stdout",
     "output_type": "stream",
     "text": [
      "--2020-07-15 07:46:21--  http://nlp.stanford.edu/data/glove.6B.zip\n",
      "Resolving nlp.stanford.edu (nlp.stanford.edu)... 171.64.67.140\n",
      "Connecting to nlp.stanford.edu (nlp.stanford.edu)|171.64.67.140|:80... connected.\n",
      "HTTP request sent, awaiting response... 302 Found\n",
      "Location: https://nlp.stanford.edu/data/glove.6B.zip [following]\n",
      "--2020-07-15 07:46:21--  https://nlp.stanford.edu/data/glove.6B.zip\n",
      "Connecting to nlp.stanford.edu (nlp.stanford.edu)|171.64.67.140|:443... connected.\n",
      "HTTP request sent, awaiting response... 301 Moved Permanently\n",
      "Location: http://downloads.cs.stanford.edu/nlp/data/glove.6B.zip [following]\n",
      "--2020-07-15 07:46:21--  http://downloads.cs.stanford.edu/nlp/data/glove.6B.zip\n",
      "Resolving downloads.cs.stanford.edu (downloads.cs.stanford.edu)... 171.64.64.22\n",
      "Connecting to downloads.cs.stanford.edu (downloads.cs.stanford.edu)|171.64.64.22|:80... connected.\n",
      "HTTP request sent, awaiting response... 200 OK\n",
      "Length: 862182613 (822M) [application/zip]\n",
      "Saving to: ‘glove.6B.zip’\n",
      "\n",
      "glove.6B.zip        100%[===================>] 822.24M  2.06MB/s    in 6m 27s  \n",
      "\n",
      "2020-07-15 07:52:48 (2.12 MB/s) - ‘glove.6B.zip’ saved [862182613/862182613]\n",
      "\n"
     ]
    }
   ],
   "source": [
    "!wget http://nlp.stanford.edu/data/glove.6B.zip"
   ]
  },
  {
   "cell_type": "code",
   "execution_count": 43,
   "metadata": {
    "colab": {
     "base_uri": "https://localhost:8080/",
     "height": 101
    },
    "colab_type": "code",
    "id": "fqPSLrDQe6vS",
    "outputId": "97163c41-1a59-4bdd-8468-1908c967b41f"
   },
   "outputs": [
    {
     "name": "stdout",
     "output_type": "stream",
     "text": [
      "Archive:  /content/glove.6B.zip\n",
      "  inflating: glove.6B.50d.txt        \n",
      "  inflating: glove.6B.100d.txt       \n",
      "  inflating: glove.6B.200d.txt       \n",
      "  inflating: glove.6B.300d.txt       \n"
     ]
    }
   ],
   "source": [
    "!unzip /content/glove.6B.zip"
   ]
  },
  {
   "cell_type": "code",
   "execution_count": 44,
   "metadata": {
    "colab": {},
    "colab_type": "code",
    "id": "lT7S-Na2gk9j"
   },
   "outputs": [],
   "source": [
    "embeddings_index = {}\n",
    "f = open(r'/content/glove.6B.100d.txt')\n",
    "for line in f:\n",
    "    values = line.split()\n",
    "    word = values[0]\n",
    "    coefs = np.asarray(values[1:], dtype='float32')\n",
    "    embeddings_index[word] = coefs\n",
    "f.close()"
   ]
  },
  {
   "cell_type": "markdown",
   "metadata": {
    "colab_type": "text",
    "id": "IrOZPiVFhbW9"
   },
   "source": [
    "- Creating an embedding dictionary."
   ]
  },
  {
   "cell_type": "code",
   "execution_count": 45,
   "metadata": {
    "colab": {
     "base_uri": "https://localhost:8080/",
     "height": 34
    },
    "colab_type": "code",
    "id": "XItJEWwthGW9",
    "outputId": "13ca8672-acb8-4da8-853a-9b271db186e7"
   },
   "outputs": [
    {
     "name": "stdout",
     "output_type": "stream",
     "text": [
      "Total number of word vectors are: 400000\n"
     ]
    }
   ],
   "source": [
    "print('Total number of word vectors are:' , len(embeddings_index))"
   ]
  },
  {
   "cell_type": "code",
   "execution_count": 46,
   "metadata": {
    "colab": {},
    "colab_type": "code",
    "id": "yIy-cOCThQQA"
   },
   "outputs": [],
   "source": [
    "max_words = len(embeddings_index)\n",
    "embedding_dim = 100\n",
    "embedding_matrix = np.zeros((max_words, embedding_dim))\n",
    "count = 0\n",
    "for word, i in embeddings_index.items():\n",
    "    embedding_vector = embeddings_index.get(word)\n",
    "    if embedding_vector is not None:\n",
    "        embedding_matrix[count] = embedding_vector\n",
    "        count+=1"
   ]
  },
  {
   "cell_type": "markdown",
   "metadata": {
    "colab_type": "text",
    "id": "M6ziSQrDhftU"
   },
   "source": [
    "- Creating an embedding matrix to be used as weights for the embedding layer in the model."
   ]
  },
  {
   "cell_type": "markdown",
   "metadata": {
    "colab_type": "text",
    "id": "9uh2JzB3hqlc"
   },
   "source": [
    "### Text preprocessing"
   ]
  },
  {
   "cell_type": "code",
   "execution_count": 47,
   "metadata": {
    "colab": {},
    "colab_type": "code",
    "id": "spdjauNDjqae"
   },
   "outputs": [],
   "source": [
    "#Convert words to integers\n",
    "tokenizer = Tokenizer()\n",
    "tokenizer.fit_on_texts(tweets_split)\n",
    "text = tokenizer.texts_to_sequences(tweets_split)"
   ]
  },
  {
   "cell_type": "code",
   "execution_count": 48,
   "metadata": {
    "colab": {
     "base_uri": "https://localhost:8080/",
     "height": 34
    },
    "colab_type": "code",
    "id": "XZcVtAomjsZB",
    "outputId": "600d563e-cd93-4baa-ca22-11be4c05ca65"
   },
   "outputs": [
    {
     "name": "stdout",
     "output_type": "stream",
     "text": [
      "(1578612, 40)\n"
     ]
    }
   ],
   "source": [
    "#lenght of tweet to consider\n",
    "maxlentweet = 40\n",
    "#add padding\n",
    "text = pad_sequences(text, maxlen=maxlentweet)\n",
    "print(text.shape)"
   ]
  },
  {
   "cell_type": "code",
   "execution_count": 49,
   "metadata": {
    "colab": {},
    "colab_type": "code",
    "id": "oWee-U5Ik0yt"
   },
   "outputs": [],
   "source": [
    "train_size=int(text.shape[0]-text.shape[0]*0.20)\n",
    "train_x=text[:train_size]\n",
    "train_y=labels[:train_size]\n",
    "val_x=text[train_size:]\n",
    "val_y=labels[train_size:]"
   ]
  },
  {
   "cell_type": "markdown",
   "metadata": {
    "colab_type": "text",
    "id": "EvvbiUwwhvlb"
   },
   "source": [
    "### Defining and training the model"
   ]
  },
  {
   "cell_type": "code",
   "execution_count": 57,
   "metadata": {
    "colab": {
     "base_uri": "https://localhost:8080/",
     "height": 302
    },
    "colab_type": "code",
    "id": "Bv6Ejy-wi7tc",
    "outputId": "21bbf64e-4d4e-4192-da39-8bfdc081f315"
   },
   "outputs": [
    {
     "name": "stdout",
     "output_type": "stream",
     "text": [
      "Model: \"sequential_1\"\n",
      "_________________________________________________________________\n",
      "Layer (type)                 Output Shape              Param #   \n",
      "=================================================================\n",
      "embedding_1 (Embedding)      (None, 40, 100)           40000000  \n",
      "_________________________________________________________________\n",
      "lstm_1 (LSTM)                (None, 48)                28608     \n",
      "_________________________________________________________________\n",
      "dropout_1 (Dropout)          (None, 48)                0         \n",
      "_________________________________________________________________\n",
      "dense_1 (Dense)              (None, 1)                 49        \n",
      "=================================================================\n",
      "Total params: 40,028,657\n",
      "Trainable params: 40,028,657\n",
      "Non-trainable params: 0\n",
      "_________________________________________________________________\n",
      "None\n"
     ]
    }
   ],
   "source": [
    "model=models.Sequential()\n",
    "model.add(layers.Embedding(max_words,embedding_dim,input_length=maxlentweet))\n",
    "model.add(layers.LSTM(units=48))\n",
    "model.add(layers.Dropout(0.5))\n",
    "model.add(layers.Dense(1, activation='sigmoid'))\n",
    "print(model.summary())"
   ]
  },
  {
   "cell_type": "code",
   "execution_count": 58,
   "metadata": {
    "colab": {
     "base_uri": "https://localhost:8080/",
     "height": 302
    },
    "colab_type": "code",
    "id": "iPgeSqz5mMme",
    "outputId": "b9ca7422-e334-4e89-e4f7-5c784fee62b8"
   },
   "outputs": [
    {
     "name": "stdout",
     "output_type": "stream",
     "text": [
      "Model: \"sequential_1\"\n",
      "_________________________________________________________________\n",
      "Layer (type)                 Output Shape              Param #   \n",
      "=================================================================\n",
      "embedding_1 (Embedding)      (None, 40, 100)           40000000  \n",
      "_________________________________________________________________\n",
      "lstm_1 (LSTM)                (None, 48)                28608     \n",
      "_________________________________________________________________\n",
      "dropout_1 (Dropout)          (None, 48)                0         \n",
      "_________________________________________________________________\n",
      "dense_1 (Dense)              (None, 1)                 49        \n",
      "=================================================================\n",
      "Total params: 40,028,657\n",
      "Trainable params: 28,657\n",
      "Non-trainable params: 40,000,000\n",
      "_________________________________________________________________\n",
      "None\n"
     ]
    }
   ],
   "source": [
    "model.layers[0].set_weights([embedding_matrix])\n",
    "model.layers[0].trainable = False\n",
    "print(model.summary())"
   ]
  },
  {
   "cell_type": "code",
   "execution_count": 59,
   "metadata": {
    "colab": {},
    "colab_type": "code",
    "id": "cHvHHhT1mYFl"
   },
   "outputs": [],
   "source": [
    "model.compile(loss='binary_crossentropy',\n",
    "              optimizer=optimizers.RMSprop(1e-3), \n",
    "              metrics=['accuracy'])"
   ]
  },
  {
   "cell_type": "code",
   "execution_count": 60,
   "metadata": {
    "colab": {},
    "colab_type": "code",
    "id": "UNmVrrIGnoeA"
   },
   "outputs": [],
   "source": [
    "earlystopper = EarlyStopping(patience=6, verbose=1)\n",
    "reduce_lr = ReduceLROnPlateau(monitor='val_loss', factor=0.2,\n",
    "                              patience=2, min_lr=1e-6, verbose=1)"
   ]
  },
  {
   "cell_type": "markdown",
   "metadata": {
    "colab_type": "text",
    "id": "MOgoAsafh21r"
   },
   "source": [
    "- Defining the callbacks."
   ]
  },
  {
   "cell_type": "code",
   "execution_count": 61,
   "metadata": {
    "colab": {
     "base_uri": "https://localhost:8080/",
     "height": 1000
    },
    "colab_type": "code",
    "id": "FUBzAVnumvcw",
    "outputId": "76978cd3-6d19-4979-dbb0-ef02c40fb738"
   },
   "outputs": [
    {
     "name": "stdout",
     "output_type": "stream",
     "text": [
      "Train on 1262889 samples, validate on 315723 samples\n",
      "Epoch 1/60\n",
      "1262889/1262889 [==============================] - 185s 146us/step - loss: 0.6108 - accuracy: 0.6622 - val_loss: 0.5554 - val_accuracy: 0.7176\n",
      "Epoch 2/60\n",
      "1262889/1262889 [==============================] - 182s 144us/step - loss: 0.5518 - accuracy: 0.7172 - val_loss: 0.5342 - val_accuracy: 0.7314\n",
      "Epoch 3/60\n",
      "1262889/1262889 [==============================] - 182s 144us/step - loss: 0.5256 - accuracy: 0.7371 - val_loss: 0.5022 - val_accuracy: 0.7589\n",
      "Epoch 4/60\n",
      "1262889/1262889 [==============================] - 182s 144us/step - loss: 0.5104 - accuracy: 0.7484 - val_loss: 0.4918 - val_accuracy: 0.7650\n",
      "Epoch 5/60\n",
      "1262889/1262889 [==============================] - 181s 143us/step - loss: 0.4990 - accuracy: 0.7571 - val_loss: 0.4743 - val_accuracy: 0.7738\n",
      "Epoch 6/60\n",
      "1262889/1262889 [==============================] - 178s 141us/step - loss: 0.4901 - accuracy: 0.7632 - val_loss: 0.4623 - val_accuracy: 0.7832\n",
      "Epoch 7/60\n",
      "1262889/1262889 [==============================] - 181s 143us/step - loss: 0.4827 - accuracy: 0.7685 - val_loss: 0.4721 - val_accuracy: 0.7769\n",
      "Epoch 8/60\n",
      "1262889/1262889 [==============================] - 179s 142us/step - loss: 0.4763 - accuracy: 0.7728 - val_loss: 0.4515 - val_accuracy: 0.7901\n",
      "Epoch 9/60\n",
      "1262889/1262889 [==============================] - 180s 142us/step - loss: 0.4714 - accuracy: 0.7759 - val_loss: 0.4528 - val_accuracy: 0.7878\n",
      "Epoch 10/60\n",
      "1262889/1262889 [==============================] - 181s 143us/step - loss: 0.4672 - accuracy: 0.7787 - val_loss: 0.4416 - val_accuracy: 0.7964\n",
      "Epoch 11/60\n",
      "1262889/1262889 [==============================] - 179s 142us/step - loss: 0.4633 - accuracy: 0.7816 - val_loss: 0.4497 - val_accuracy: 0.7900\n",
      "Epoch 12/60\n",
      "1262889/1262889 [==============================] - 181s 143us/step - loss: 0.4602 - accuracy: 0.7831 - val_loss: 0.4362 - val_accuracy: 0.7991\n",
      "Epoch 13/60\n",
      "1262889/1262889 [==============================] - 180s 143us/step - loss: 0.4570 - accuracy: 0.7851 - val_loss: 0.4318 - val_accuracy: 0.8019\n",
      "Epoch 14/60\n",
      "1262889/1262889 [==============================] - 181s 143us/step - loss: 0.4554 - accuracy: 0.7864 - val_loss: 0.4346 - val_accuracy: 0.8006\n",
      "Epoch 15/60\n",
      "1262889/1262889 [==============================] - 178s 141us/step - loss: 0.4523 - accuracy: 0.7885 - val_loss: 0.4305 - val_accuracy: 0.8030\n",
      "Epoch 16/60\n",
      "1262889/1262889 [==============================] - 181s 143us/step - loss: 0.4503 - accuracy: 0.7899 - val_loss: 0.4329 - val_accuracy: 0.8013\n",
      "Epoch 17/60\n",
      "1262889/1262889 [==============================] - 179s 142us/step - loss: 0.4482 - accuracy: 0.7908 - val_loss: 0.4421 - val_accuracy: 0.7999\n",
      "\n",
      "Epoch 00017: ReduceLROnPlateau reducing learning rate to 0.00020000000949949026.\n",
      "Epoch 18/60\n",
      "1262889/1262889 [==============================] - 180s 142us/step - loss: 0.4413 - accuracy: 0.7954 - val_loss: 0.4227 - val_accuracy: 0.8067\n",
      "Epoch 19/60\n",
      "1262889/1262889 [==============================] - 181s 143us/step - loss: 0.4406 - accuracy: 0.7956 - val_loss: 0.4220 - val_accuracy: 0.8066\n",
      "Epoch 20/60\n",
      "1262889/1262889 [==============================] - 180s 143us/step - loss: 0.4399 - accuracy: 0.7961 - val_loss: 0.4217 - val_accuracy: 0.8074\n",
      "Epoch 21/60\n",
      "1262889/1262889 [==============================] - 180s 142us/step - loss: 0.4392 - accuracy: 0.7962 - val_loss: 0.4220 - val_accuracy: 0.8068\n",
      "Epoch 22/60\n",
      "1262889/1262889 [==============================] - 181s 144us/step - loss: 0.4388 - accuracy: 0.7963 - val_loss: 0.4209 - val_accuracy: 0.8079\n",
      "Epoch 23/60\n",
      "1262889/1262889 [==============================] - 182s 144us/step - loss: 0.4386 - accuracy: 0.7967 - val_loss: 0.4223 - val_accuracy: 0.8070\n",
      "Epoch 24/60\n",
      "1262889/1262889 [==============================] - 182s 144us/step - loss: 0.4381 - accuracy: 0.7968 - val_loss: 0.4217 - val_accuracy: 0.8072\n",
      "\n",
      "Epoch 00024: ReduceLROnPlateau reducing learning rate to 4.0000001899898055e-05.\n",
      "Epoch 25/60\n",
      "1262889/1262889 [==============================] - 180s 143us/step - loss: 0.4370 - accuracy: 0.7976 - val_loss: 0.4207 - val_accuracy: 0.8080\n",
      "Epoch 26/60\n",
      "1262889/1262889 [==============================] - 180s 143us/step - loss: 0.4367 - accuracy: 0.7977 - val_loss: 0.4206 - val_accuracy: 0.8080\n",
      "Epoch 27/60\n",
      "1262889/1262889 [==============================] - 182s 144us/step - loss: 0.4365 - accuracy: 0.7980 - val_loss: 0.4201 - val_accuracy: 0.8082\n",
      "Epoch 28/60\n",
      "1262889/1262889 [==============================] - 179s 141us/step - loss: 0.4363 - accuracy: 0.7979 - val_loss: 0.4202 - val_accuracy: 0.8083\n",
      "Epoch 29/60\n",
      "1262889/1262889 [==============================] - 180s 143us/step - loss: 0.4364 - accuracy: 0.7979 - val_loss: 0.4196 - val_accuracy: 0.8081\n",
      "Epoch 30/60\n",
      "1262889/1262889 [==============================] - 181s 143us/step - loss: 0.4364 - accuracy: 0.7980 - val_loss: 0.4198 - val_accuracy: 0.8082\n",
      "Epoch 31/60\n",
      "1262889/1262889 [==============================] - 182s 144us/step - loss: 0.4365 - accuracy: 0.7982 - val_loss: 0.4205 - val_accuracy: 0.8083\n",
      "\n",
      "Epoch 00031: ReduceLROnPlateau reducing learning rate to 8.000000525498762e-06.\n",
      "Epoch 32/60\n",
      "1262889/1262889 [==============================] - 181s 143us/step - loss: 0.4361 - accuracy: 0.7981 - val_loss: 0.4196 - val_accuracy: 0.8084\n",
      "Epoch 33/60\n",
      "1262889/1262889 [==============================] - 181s 143us/step - loss: 0.4359 - accuracy: 0.7984 - val_loss: 0.4198 - val_accuracy: 0.8084\n",
      "\n",
      "Epoch 00033: ReduceLROnPlateau reducing learning rate to 1.6000001778593287e-06.\n",
      "Epoch 34/60\n",
      "1262889/1262889 [==============================] - 180s 142us/step - loss: 0.4362 - accuracy: 0.7982 - val_loss: 0.4197 - val_accuracy: 0.8085\n",
      "Epoch 35/60\n",
      "1262889/1262889 [==============================] - 182s 144us/step - loss: 0.4360 - accuracy: 0.7982 - val_loss: 0.4197 - val_accuracy: 0.8084\n",
      "\n",
      "Epoch 00035: ReduceLROnPlateau reducing learning rate to 1e-06.\n",
      "Epoch 36/60\n",
      "1262889/1262889 [==============================] - 179s 141us/step - loss: 0.4359 - accuracy: 0.7984 - val_loss: 0.4197 - val_accuracy: 0.8085\n",
      "Epoch 37/60\n",
      "1262889/1262889 [==============================] - 181s 144us/step - loss: 0.4360 - accuracy: 0.7985 - val_loss: 0.4197 - val_accuracy: 0.8085\n",
      "Epoch 38/60\n",
      "1262889/1262889 [==============================] - 179s 142us/step - loss: 0.4360 - accuracy: 0.7982 - val_loss: 0.4197 - val_accuracy: 0.8085\n",
      "Epoch 00038: early stopping\n"
     ]
    }
   ],
   "source": [
    "history=model.fit(train_x,\n",
    "                  train_y,\n",
    "                  epochs=60,\n",
    "                  batch_size=1024,\n",
    "                  validation_data=[val_x,val_y],\n",
    "                  callbacks=[earlystopper,reduce_lr])"
   ]
  },
  {
   "cell_type": "code",
   "execution_count": 62,
   "metadata": {
    "colab": {},
    "colab_type": "code",
    "id": "tqjDhfnX0FRB"
   },
   "outputs": [],
   "source": [
    "model.save(r'/content/drive/My Drive/Hackerearth pride data/Love is love - Hackerearth - Final.h5')\n",
    "#model=models.load_model('/content/drive/My Drive/Hackerearth pride data/Love is love - Hackerearth_1.h5')"
   ]
  },
  {
   "cell_type": "code",
   "execution_count": 56,
   "metadata": {
    "colab": {},
    "colab_type": "code",
    "id": "gYDQF5V3m-wI"
   },
   "outputs": [],
   "source": [
    "#tf.keras.backend.clear_session()"
   ]
  },
  {
   "cell_type": "code",
   "execution_count": 63,
   "metadata": {
    "colab": {
     "base_uri": "https://localhost:8080/",
     "height": 578
    },
    "colab_type": "code",
    "id": "vW2WJ-Kyn0SS",
    "outputId": "9a4ade58-9e86-4cd4-d960-80a42d14473d"
   },
   "outputs": [
    {
     "data": {
      "text/plain": [
       "<Figure size 432x288 with 0 Axes>"
      ]
     },
     "execution_count": 63,
     "metadata": {
      "tags": []
     },
     "output_type": "execute_result"
    },
    {
     "data": {
      "image/png": "[encoded data removed]",
      "text/plain": [
       "<Figure size 432x288 with 1 Axes>"
      ]
     },
     "metadata": {
      "needs_background": "light",
      "tags": []
     },
     "output_type": "display_data"
    },
    {
     "data": {
      "image/png": "[encoded data removed]",
      "text/plain": [
       "<Figure size 432x288 with 1 Axes>"
      ]
     },
     "metadata": {
      "needs_background": "light",
      "tags": []
     },
     "output_type": "display_data"
    },
    {
     "data": {
      "text/plain": [
       "<Figure size 432x288 with 0 Axes>"
      ]
     },
     "metadata": {
      "tags": []
     },
     "output_type": "display_data"
    }
   ],
   "source": [
    "acc      = history.history[ 'accuracy' ]\n",
    "val_acc  = history.history[ 'val_accuracy' ]\n",
    "loss     = history.history[ 'loss' ]\n",
    "val_loss = history.history['val_loss' ]\n",
    "\n",
    "epochs   = range(len(acc)) # Get number of epochs\n",
    "\n",
    "#------------------------------------------------\n",
    "# Plot training and validation accuracy per epoch\n",
    "#------------------------------------------------\n",
    "plt.plot( epochs, acc , label = 'Training accuracy')\n",
    "plt.plot( epochs, val_acc, label = 'Validation accuracy')\n",
    "plt.title('Training and validation accuracy')\n",
    "plt.legend()\n",
    "plt.figure()\n",
    "\n",
    "#------------------------------------------------\n",
    "# Plot training and validation loss per epoch\n",
    "#------------------------------------------------\n",
    "plt.plot( epochs, loss , label = 'Training loss')\n",
    "plt.plot( epochs, val_loss, label = 'Validation loss')\n",
    "plt.title('Training and validation loss')\n",
    "plt.legend()\n",
    "plt.figure()"
   ]
  },
  {
   "cell_type": "markdown",
   "metadata": {
    "colab_type": "text",
    "id": "IftgKHjQiF5D"
   },
   "source": [
    "## Making predictions for the text extracted through OCR"
   ]
  },
  {
   "cell_type": "code",
   "execution_count": 64,
   "metadata": {
    "colab": {},
    "colab_type": "code",
    "id": "dRfEMI6J0V8R"
   },
   "outputs": [],
   "source": [
    "data_without_random=data[data['Content']!='']"
   ]
  },
  {
   "cell_type": "code",
   "execution_count": 65,
   "metadata": {
    "colab": {
     "base_uri": "https://localhost:8080/",
     "height": 34
    },
    "colab_type": "code",
    "id": "vCgUorfQ1Akr",
    "outputId": "86a9357a-87c2-493d-ba25-56147cb7dba9"
   },
   "outputs": [
    {
     "data": {
      "text/plain": [
       "(121, 3)"
      ]
     },
     "execution_count": 65,
     "metadata": {
      "tags": []
     },
     "output_type": "execute_result"
    }
   ],
   "source": [
    "data_without_random.shape"
   ]
  },
  {
   "cell_type": "code",
   "execution_count": 66,
   "metadata": {
    "colab": {
     "base_uri": "https://localhost:8080/",
     "height": 34
    },
    "colab_type": "code",
    "id": "LeQIV1bj1CDr",
    "outputId": "05037077-e570-41f5-b92d-d4ee4ea62f68"
   },
   "outputs": [
    {
     "data": {
      "text/plain": [
       "(239, 3)"
      ]
     },
     "execution_count": 66,
     "metadata": {
      "tags": []
     },
     "output_type": "execute_result"
    }
   ],
   "source": [
    "data.shape"
   ]
  },
  {
   "cell_type": "code",
   "execution_count": 67,
   "metadata": {
    "colab": {
     "base_uri": "https://localhost:8080/",
     "height": 34
    },
    "colab_type": "code",
    "id": "C1KtxG7y1DZ5",
    "outputId": "9604a107-b8c7-4fb1-89f0-6456969950b1"
   },
   "outputs": [
    {
     "name": "stdout",
     "output_type": "stream",
     "text": [
      "(121, 40)\n"
     ]
    }
   ],
   "source": [
    "content = tokenizer.texts_to_sequences(data_without_random['Content'])\n",
    "#add padding\n",
    "content = pad_sequences(content, maxlen=maxlentweet)\n",
    "print(content.shape)"
   ]
  },
  {
   "cell_type": "code",
   "execution_count": 68,
   "metadata": {
    "colab": {},
    "colab_type": "code",
    "id": "rehP3hG33H6x"
   },
   "outputs": [],
   "source": [
    "predictions=model.predict_classes(content)"
   ]
  },
  {
   "cell_type": "code",
   "execution_count": 69,
   "metadata": {
    "colab": {
     "base_uri": "https://localhost:8080/",
     "height": 397
    },
    "colab_type": "code",
    "id": "lW2xp2Od3q7g",
    "outputId": "3e327465-40b0-4b15-ae92-2f16cc5407cf"
   },
   "outputs": [
    {
     "name": "stderr",
     "output_type": "stream",
     "text": [
      "/usr/local/lib/python3.6/dist-packages/ipykernel_launcher.py:1: SettingWithCopyWarning: \n",
      "A value is trying to be set on a copy of a slice from a DataFrame.\n",
      "Try using .loc[row_indexer,col_indexer] = value instead\n",
      "\n",
      "See the caveats in the documentation: https://pandas.pydata.org/pandas-docs/stable/user_guide/indexing.html#returning-a-view-versus-a-copy\n",
      "  \"\"\"Entry point for launching an IPython kernel.\n",
      "/usr/local/lib/python3.6/dist-packages/ipykernel_launcher.py:2: SettingWithCopyWarning: \n",
      "A value is trying to be set on a copy of a slice from a DataFrame.\n",
      "Try using .loc[row_indexer,col_indexer] = value instead\n",
      "\n",
      "See the caveats in the documentation: https://pandas.pydata.org/pandas-docs/stable/user_guide/indexing.html#returning-a-view-versus-a-copy\n",
      "  \n"
     ]
    },
    {
     "data": {
      "text/html": [
       "<div>\n",
       "<style scoped>\n",
       "    .dataframe tbody tr th:only-of-type {\n",
       "        vertical-align: middle;\n",
       "    }\n",
       "\n",
       "    .dataframe tbody tr th {\n",
       "        vertical-align: top;\n",
       "    }\n",
       "\n",
       "    .dataframe thead th {\n",
       "        text-align: right;\n",
       "    }\n",
       "</style>\n",
       "<table border=\"1\" class=\"dataframe\">\n",
       "  <thead>\n",
       "    <tr style=\"text-align: right;\">\n",
       "      <th></th>\n",
       "      <th>Filename</th>\n",
       "      <th>Category</th>\n",
       "      <th>Content</th>\n",
       "    </tr>\n",
       "  </thead>\n",
       "  <tbody>\n",
       "    <tr>\n",
       "      <th>0</th>\n",
       "      <td>Test1001.jpg</td>\n",
       "      <td>Positive</td>\n",
       "      <td>When people ask what I see in you I just smile...</td>\n",
       "    </tr>\n",
       "    <tr>\n",
       "      <th>1</th>\n",
       "      <td>Test1012.jpg</td>\n",
       "      <td>Positive</td>\n",
       "      <td>LOVE al</td>\n",
       "    </tr>\n",
       "    <tr>\n",
       "      <th>2</th>\n",
       "      <td>Test1022.jpg</td>\n",
       "      <td>Positive</td>\n",
       "      <td>LOVE</td>\n",
       "    </tr>\n",
       "    <tr>\n",
       "      <th>3</th>\n",
       "      <td>Test1071.jpg</td>\n",
       "      <td>Negative</td>\n",
       "      <td>MU em eat ie not living by society s but deep ...</td>\n",
       "    </tr>\n",
       "    <tr>\n",
       "      <th>4</th>\n",
       "      <td>Test1122.jpg</td>\n",
       "      <td>Positive</td>\n",
       "      <td>author of Fair Play How are their Rightful Pla...</td>\n",
       "    </tr>\n",
       "  </tbody>\n",
       "</table>\n",
       "</div>"
      ],
      "text/plain": [
       "       Filename  Category                                            Content\n",
       "0  Test1001.jpg  Positive  When people ask what I see in you I just smile...\n",
       "1  Test1012.jpg  Positive                                            LOVE al\n",
       "2  Test1022.jpg  Positive                                               LOVE\n",
       "3  Test1071.jpg  Negative  MU em eat ie not living by society s but deep ...\n",
       "4  Test1122.jpg  Positive  author of Fair Play How are their Rightful Pla..."
      ]
     },
     "execution_count": 69,
     "metadata": {
      "tags": []
     },
     "output_type": "execute_result"
    }
   ],
   "source": [
    "data_without_random['Category']=predictions\n",
    "data_without_random['Category']=data_without_random['Category'].apply(lambda x:'Negative' if x==0 else 'Positive')\n",
    "data_without_random.head()"
   ]
  },
  {
   "cell_type": "code",
   "execution_count": 70,
   "metadata": {
    "colab": {
     "base_uri": "https://localhost:8080/",
     "height": 67
    },
    "colab_type": "code",
    "id": "KuvwCTio3sgj",
    "outputId": "368d131b-f1db-43b7-d9b7-9d4e93a6f31f"
   },
   "outputs": [
    {
     "data": {
      "text/plain": [
       "Positive    76\n",
       "Negative    45\n",
       "Name: Category, dtype: int64"
      ]
     },
     "execution_count": 70,
     "metadata": {
      "tags": []
     },
     "output_type": "execute_result"
    }
   ],
   "source": [
    "data_without_random['Category'].value_counts()"
   ]
  },
  {
   "cell_type": "code",
   "execution_count": 71,
   "metadata": {
    "colab": {},
    "colab_type": "code",
    "id": "v7Jk7kew41e-"
   },
   "outputs": [],
   "source": [
    "Category=[]\n",
    "for i in data.index:\n",
    "    if data['Content'][i]=='':\n",
    "        Category.append('Random')\n",
    "    else:\n",
    "    for j in data_without_random.index:\n",
    "        if data['Filename'][i]==data_without_random['Filename'][j]:\n",
    "            Category.append(data_without_random['Category'][j])"
   ]
  },
  {
   "cell_type": "code",
   "execution_count": 72,
   "metadata": {
    "colab": {
     "base_uri": "https://localhost:8080/",
     "height": 195
    },
    "colab_type": "code",
    "id": "dYqukzbV5jPf",
    "outputId": "bdff06be-78a1-4e8b-8ac7-07de5aa078aa"
   },
   "outputs": [
    {
     "data": {
      "text/html": [
       "<div>\n",
       "<style scoped>\n",
       "    .dataframe tbody tr th:only-of-type {\n",
       "        vertical-align: middle;\n",
       "    }\n",
       "\n",
       "    .dataframe tbody tr th {\n",
       "        vertical-align: top;\n",
       "    }\n",
       "\n",
       "    .dataframe thead th {\n",
       "        text-align: right;\n",
       "    }\n",
       "</style>\n",
       "<table border=\"1\" class=\"dataframe\">\n",
       "  <thead>\n",
       "    <tr style=\"text-align: right;\">\n",
       "      <th></th>\n",
       "      <th>Filename</th>\n",
       "      <th>Category</th>\n",
       "      <th>Content</th>\n",
       "    </tr>\n",
       "  </thead>\n",
       "  <tbody>\n",
       "    <tr>\n",
       "      <th>0</th>\n",
       "      <td>Test1001.jpg</td>\n",
       "      <td>Positive</td>\n",
       "      <td>When people ask what I see in you I just smile...</td>\n",
       "    </tr>\n",
       "    <tr>\n",
       "      <th>1</th>\n",
       "      <td>Test1012.jpg</td>\n",
       "      <td>Positive</td>\n",
       "      <td>LOVE al</td>\n",
       "    </tr>\n",
       "    <tr>\n",
       "      <th>2</th>\n",
       "      <td>Test1022.jpg</td>\n",
       "      <td>Positive</td>\n",
       "      <td>LOVE</td>\n",
       "    </tr>\n",
       "    <tr>\n",
       "      <th>3</th>\n",
       "      <td>Test1071.jpg</td>\n",
       "      <td>Negative</td>\n",
       "      <td>MU em eat ie not living by society s but deep ...</td>\n",
       "    </tr>\n",
       "    <tr>\n",
       "      <th>4</th>\n",
       "      <td>Test1122.jpg</td>\n",
       "      <td>Positive</td>\n",
       "      <td>author of Fair Play How are their Rightful Pla...</td>\n",
       "    </tr>\n",
       "  </tbody>\n",
       "</table>\n",
       "</div>"
      ],
      "text/plain": [
       "       Filename  Category                                            Content\n",
       "0  Test1001.jpg  Positive  When people ask what I see in you I just smile...\n",
       "1  Test1012.jpg  Positive                                            LOVE al\n",
       "2  Test1022.jpg  Positive                                               LOVE\n",
       "3  Test1071.jpg  Negative  MU em eat ie not living by society s but deep ...\n",
       "4  Test1122.jpg  Positive  author of Fair Play How are their Rightful Pla..."
      ]
     },
     "execution_count": 72,
     "metadata": {
      "tags": []
     },
     "output_type": "execute_result"
    }
   ],
   "source": [
    "data['Category']=Category\n",
    "data.head()"
   ]
  },
  {
   "cell_type": "code",
   "execution_count": 73,
   "metadata": {
    "colab": {
     "base_uri": "https://localhost:8080/",
     "height": 195
    },
    "colab_type": "code",
    "id": "H9NzoOzX5scT",
    "outputId": "188cbd5b-b6c4-4929-c956-c87276391d5f"
   },
   "outputs": [
    {
     "data": {
      "text/html": [
       "<div>\n",
       "<style scoped>\n",
       "    .dataframe tbody tr th:only-of-type {\n",
       "        vertical-align: middle;\n",
       "    }\n",
       "\n",
       "    .dataframe tbody tr th {\n",
       "        vertical-align: top;\n",
       "    }\n",
       "\n",
       "    .dataframe thead th {\n",
       "        text-align: right;\n",
       "    }\n",
       "</style>\n",
       "<table border=\"1\" class=\"dataframe\">\n",
       "  <thead>\n",
       "    <tr style=\"text-align: right;\">\n",
       "      <th></th>\n",
       "      <th>Filename</th>\n",
       "      <th>Category</th>\n",
       "    </tr>\n",
       "  </thead>\n",
       "  <tbody>\n",
       "    <tr>\n",
       "      <th>0</th>\n",
       "      <td>Test1001.jpg</td>\n",
       "      <td>Positive</td>\n",
       "    </tr>\n",
       "    <tr>\n",
       "      <th>1</th>\n",
       "      <td>Test1012.jpg</td>\n",
       "      <td>Positive</td>\n",
       "    </tr>\n",
       "    <tr>\n",
       "      <th>2</th>\n",
       "      <td>Test1022.jpg</td>\n",
       "      <td>Positive</td>\n",
       "    </tr>\n",
       "    <tr>\n",
       "      <th>3</th>\n",
       "      <td>Test1071.jpg</td>\n",
       "      <td>Negative</td>\n",
       "    </tr>\n",
       "    <tr>\n",
       "      <th>4</th>\n",
       "      <td>Test1122.jpg</td>\n",
       "      <td>Positive</td>\n",
       "    </tr>\n",
       "  </tbody>\n",
       "</table>\n",
       "</div>"
      ],
      "text/plain": [
       "       Filename  Category\n",
       "0  Test1001.jpg  Positive\n",
       "1  Test1012.jpg  Positive\n",
       "2  Test1022.jpg  Positive\n",
       "3  Test1071.jpg  Negative\n",
       "4  Test1122.jpg  Positive"
      ]
     },
     "execution_count": 73,
     "metadata": {
      "tags": []
     },
     "output_type": "execute_result"
    }
   ],
   "source": [
    "final_submission=data[['Filename','Category']]\n",
    "final_submission.head()"
   ]
  },
  {
   "cell_type": "code",
   "execution_count": 74,
   "metadata": {
    "colab": {
     "base_uri": "https://localhost:8080/",
     "height": 84
    },
    "colab_type": "code",
    "id": "f8ewzg8X_ck6",
    "outputId": "89d1a639-5d49-459e-f1fd-54c749c152d2"
   },
   "outputs": [
    {
     "data": {
      "text/plain": [
       "Random      118\n",
       "Positive     76\n",
       "Negative     45\n",
       "Name: Category, dtype: int64"
      ]
     },
     "execution_count": 74,
     "metadata": {
      "tags": []
     },
     "output_type": "execute_result"
    }
   ],
   "source": [
    "final_submission['Category'].value_counts()"
   ]
  },
  {
   "cell_type": "code",
   "execution_count": 75,
   "metadata": {
    "colab": {},
    "colab_type": "code",
    "id": "_1gLJdxe52n7"
   },
   "outputs": [],
   "source": [
    "final_submission.to_csv(r'/content/drive/My Drive/Hackerearth pride data/final_submission.csv',index=False)"
   ]
  }
 ],
 "metadata": {
  "accelerator": "GPU",
  "colab": {
   "collapsed_sections": [],
   "name": "Hackerearth - Love is love - OCR & Sentiment classification.ipynb",
   "provenance": []
  },
  "kernelspec": {
   "display_name": "Python 3",
   "language": "python",
   "name": "python3"
  },
  "language_info": {
   "codemirror_mode": {
    "name": "ipython",
    "version": 3
   },
   "file_extension": ".py",
   "mimetype": "text/x-python",
   "name": "python",
   "nbconvert_exporter": "python",
   "pygments_lexer": "ipython3",
   "version": "3.7.3"
  }
 },
 "nbformat": 4,
 "nbformat_minor": 1
}
